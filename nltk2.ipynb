{
 "cells": [
  {
   "cell_type": "markdown",
   "metadata": {
    "collapsed": true,
    "pycharm": {
     "name": "#%% md\n"
    }
   },
   "source": [
    "### 지난 시간?\n",
    "* beautifulsoup 를 이용한 크롤링\n",
    "* NLTK 자연어 처리 파이썬 모듈\n",
    "    * 말뭉치, 문서 확인\n",
    "    * 형태소 분석\n",
    "* 형태소 분석\n",
    "* 토큰화 (문장, 단어..)\n",
    "* 어간 추출(Stemming)\n",
    "* 표제어 추출(Lemmatization)\n",
    "* 품사 태깅\n",
    "* 데이터 전처리\n",
    "    * 불용어 제거\n",
    "    * 정규식 표현\n",
    "* 워드, 빈도\n",
    "* 워드 클라우드\n",
    "* 유의어, 반의어"
   ]
  },
  {
   "cell_type": "markdown",
   "source": [
    "## 개체명 인식(Named Entity Recognition)\n",
    "* 이름을 가진 개체(named entity)를 인식 하겠다는 것을 의미\n",
    "* 예를 들어\n",
    "    * 2022년 -> 시간\n",
    "    * 1미터 -> 단위\n",
    "    * 대한민국 -> 국가\n",
    "    * 김혜수 -> 배우"
   ],
   "metadata": {
    "collapsed": false,
    "pycharm": {
     "name": "#%% md\n"
    }
   }
  },
  {
   "cell_type": "code",
   "execution_count": 2,
   "outputs": [
    {
     "name": "stdout",
     "output_type": "stream",
     "text": [
      "[('James', 'NNP'), ('is', 'VBZ'), ('working', 'VBG'), ('at', 'IN'), ('Disney', 'NNP'), ('in', 'IN'), ('London', 'NNP')]\n"
     ]
    }
   ],
   "source": [
    "# NLTK 에서는 개체명 인식기(NER chunker)\n",
    "from nltk import word_tokenize, pos_tag, ne_chunk\n",
    "\n",
    "sentence = \"James is working at Disney in London\"\n",
    "\n",
    "# 토큰화 후 품사 태깅\n",
    "tokenized_sentence = pos_tag(word_tokenize(sentence))\n",
    "print(tokenized_sentence)"
   ],
   "metadata": {
    "collapsed": false,
    "pycharm": {
     "name": "#%%\n"
    }
   }
  },
  {
   "cell_type": "code",
   "execution_count": 3,
   "outputs": [
    {
     "name": "stdout",
     "output_type": "stream",
     "text": [
      "(S\n",
      "  (PERSON James/NNP)\n",
      "  is/VBZ\n",
      "  working/VBG\n",
      "  at/IN\n",
      "  (ORGANIZATION Disney/NNP)\n",
      "  in/IN\n",
      "  (GPE London/NNP))\n"
     ]
    }
   ],
   "source": [
    "# 개체명 인식\n",
    "ner_sentence = ne_chunk(tokenized_sentence)\n",
    "print(ner_sentence)"
   ],
   "metadata": {
    "collapsed": false,
    "pycharm": {
     "name": "#%%\n"
    }
   }
  },
  {
   "cell_type": "code",
   "execution_count": null,
   "outputs": [],
   "source": [
    "# from google.colab import drive\n",
    "# drive.mount('/content/drive')\n",
    "\n",
    "# https://nlp.stanford.edu/software/CRF-NER.html#Download"
   ],
   "metadata": {
    "collapsed": false,
    "pycharm": {
     "name": "#%%\n"
    }
   }
  },
  {
   "cell_type": "code",
   "execution_count": 12,
   "outputs": [
    {
     "name": "stdout",
     "output_type": "stream",
     "text": [
      "[('James', 'PERSON'), ('is', 'O'), ('working', 'O'), ('at', 'O'), ('Disney', 'ORGANIZATION'), ('in', 'O'), ('London', 'LOCATION')]\n"
     ]
    }
   ],
   "source": [
    "# Stanford Named Entity Recognizer (NER)\n",
    "# NLTK\n",
    "from nltk.tag.stanford import StanfordNERTagger\n",
    "\n",
    "words = word_tokenize(sentence)\n",
    "\n",
    "jar = '/Users/megan/work/ml-study/text-mining-example/data/stanford-ner-2020-11-17/stanford-ner.jar'\n",
    "model = '/Users/megan/work/ml-study/text-mining-example/data/stanford-ner-2020-11-17/classifiers/english.all.3class.distsim.crf.ser.gz'\n",
    "\n",
    "ner_tagger = StanfordNERTagger(model, jar, encoding='utf-8')\n",
    "print(ner_tagger.tag(words))"
   ],
   "metadata": {
    "collapsed": false,
    "pycharm": {
     "name": "#%%\n"
    }
   }
  },
  {
   "cell_type": "code",
   "execution_count": null,
   "outputs": [],
   "source": [
    "# pandas, numpy\n"
   ],
   "metadata": {
    "collapsed": false,
    "pycharm": {
     "name": "#%%\n"
    }
   }
  },
  {
   "cell_type": "markdown",
   "source": [
    "### 자연어 처리에서 텍스트를 표현하는 방법이 여러가지\n",
    "    * BOW(bag of words)\n",
    "    * DTM(document term matrix)\n",
    "    * TF-IDF(term frequency-inverse document frequency)\n",
    "    * Word2Vec"
   ],
   "metadata": {
    "collapsed": false
   }
  },
  {
   "cell_type": "code",
   "execution_count": 24,
   "outputs": [
    {
     "name": "stdout",
     "output_type": "stream",
     "text": [
      "['The news mentioned here is fake.', 'Audience do not encourage fake news.', 'Fake news is false or misleading']\n",
      "['news mentioned fake', 'audience encourage fake news', 'fake news false misleading']\n"
     ]
    }
   ],
   "source": [
    "import nltk\n",
    "from nltk.stem import WordNetLemmatizer\n",
    "from nltk.corpus import stopwords\n",
    "import re\n",
    "\n",
    "paragraph = \"\"\"The news mentioned here is fake.\n",
    "Audience do not encourage fake news.\n",
    "Fake news is false or misleading\"\"\"\n",
    "\n",
    "sentences = nltk.sent_tokenize(paragraph)\n",
    "print(sentences)\n",
    "lemmatizer = WordNetLemmatizer()\n",
    "\n",
    "corpus = []\n",
    "\n",
    "stopwords = set(stopwords.words('english'))\n",
    "\n",
    "for i in range(len(sentences)):\n",
    "    sent = re.sub('[^a-zA-Z0-9]', ' ', sentences[i])\n",
    "    sent = sent.lower()\n",
    "    sent = sent.split()\n",
    "    filtered_word = []\n",
    "    for word in sent:\n",
    "        if not word in stopwords:\n",
    "            filtered_word.append(lemmatizer.lemmatize(word))\n",
    "\n",
    "    sent = ' '.join(filtered_word)\n",
    "    corpus.append(sent)\n",
    "\n",
    "# ['news mentioned fake', 'audience encourage fake news', 'fake news false misleading']\n",
    "print(corpus)"
   ],
   "metadata": {
    "collapsed": false,
    "pycharm": {
     "name": "#%%\n"
    }
   }
  },
  {
   "cell_type": "code",
   "execution_count": 27,
   "outputs": [
    {
     "name": "stdout",
     "output_type": "stream",
     "text": [
      "news mentioned fake audience encourage fake news fake news false misleading\n",
      "Counter({'news': 3, 'fake': 3, 'mentioned': 1, 'audience': 1, 'encourage': 1, 'false': 1, 'misleading': 1})\n",
      "[('audience', 1), ('encourage', 1), ('fake', 3), ('false', 1), ('mentioned', 1), ('misleading', 1), ('news', 3)]\n"
     ]
    }
   ],
   "source": [
    "print(' '.join(corpus))\n",
    "\n",
    "import collections\n",
    "\n",
    "word_counter = collections.Counter(' '.join(corpus).split())\n",
    "print(word_counter)\n",
    "\n",
    "word_counter = sorted(word_counter.items())\n",
    "print(word_counter)"
   ],
   "metadata": {
    "collapsed": false,
    "pycharm": {
     "name": "#%%\n"
    }
   }
  },
  {
   "cell_type": "markdown",
   "source": [
    "|                              | audience | encourage | fake | false | mentioned | misleading | news |\n",
    "|------------------------------|----------|-----------|------|-------|-----------|------------|------|\n",
    "| news mentioned fake          | 0        | 0         | 1    | 0     | 1         | 0          | 1    |\n",
    "| audience encourage fake news | 1        | 1         | 1    | 0     | 0         | 0          | 1    |\n",
    "| fake news false misleading   | 0        | 0         | 1    | 1     | 0         | 1          | 1    |"
   ],
   "metadata": {
    "collapsed": false
   }
  },
  {
   "cell_type": "markdown",
   "source": [
    "### 사이킷런(scikit-learn)\n",
    "* 머신러닝 라이브러리\n",
    "    * https://scikit-learn.org/stable/"
   ],
   "metadata": {
    "collapsed": false
   }
  },
  {
   "cell_type": "code",
   "execution_count": 30,
   "outputs": [
    {
     "name": "stdout",
     "output_type": "stream",
     "text": [
      "[[0 0 1 0 1 0 1]\n",
      " [1 1 1 0 0 0 1]\n",
      " [0 0 1 1 0 1 1]]\n"
     ]
    }
   ],
   "source": [
    "from sklearn.feature_extraction.text import CountVectorizer\n",
    "\n",
    "cv = CountVectorizer()\n",
    "dtm = cv.fit_transform(corpus).toarray()\n",
    "print(dtm)"
   ],
   "metadata": {
    "collapsed": false,
    "pycharm": {
     "name": "#%%\n"
    }
   }
  },
  {
   "cell_type": "code",
   "execution_count": 34,
   "outputs": [
    {
     "name": "stdout",
     "output_type": "stream",
     "text": [
      "['audience' 'encourage' 'fake' 'false' 'mentioned' 'misleading' 'news']\n"
     ]
    }
   ],
   "source": [
    "print(cv.get_feature_names_out())"
   ],
   "metadata": {
    "collapsed": false,
    "pycharm": {
     "name": "#%%\n"
    }
   }
  },
  {
   "cell_type": "code",
   "execution_count": 35,
   "outputs": [],
   "source": [
    "def tokenize(text):\n",
    "    text = re.sub(r\"[^a-zA-Z0-9]\", \" \", text)\n",
    "    text = text.lower()\n",
    "\n",
    "    # tokenize text\n",
    "    tokens = word_tokenize(text)\n",
    "\n",
    "    # lemmatize and remove stop words\n",
    "    tokens = [lemmatizer.lemmatize(word) for word in tokens if word not in stopwords]\n",
    "\n",
    "    return tokens\n"
   ],
   "metadata": {
    "collapsed": false,
    "pycharm": {
     "name": "#%%\n"
    }
   }
  },
  {
   "cell_type": "code",
   "execution_count": 46,
   "outputs": [
    {
     "name": "stdout",
     "output_type": "stream",
     "text": [
      "['2' 'ai' 'bad' 'boring' 'change' 'definitely' 'first' 'human' 'least'\n",
      " 'look' 'matrix' 'may' 'one' 'part' 'people' 'renaissance' 'second' 'see'\n",
      " 'started' 'thing' 'time' 'twice' 'view' 'war' 'watch']\n",
      "[[0 0 0 1 0 0 1 0 0 1 0 1 0 0 0 1 1 1 0 0 1 0 0 0 0]\n",
      " [1 0 0 0 0 1 0 0 1 1 0 0 0 1 0 0 0 0 0 0 0 1 0 0 1]\n",
      " [0 0 0 0 1 0 0 0 0 0 1 0 0 0 0 0 0 0 0 0 0 0 1 0 0]\n",
      " [0 0 0 0 0 0 0 1 0 0 0 0 1 0 1 0 0 0 1 0 0 0 0 1 0]\n",
      " [0 1 1 0 0 0 0 0 0 0 0 0 0 0 0 0 0 0 0 1 0 0 0 0 0]]\n"
     ]
    }
   ],
   "source": [
    "exam_docs = [\"The first time you see The Second Renaissance it may look boring.\",\n",
    "             \"Look at it at least twice and definitely watch part 2.\",\n",
    "             \"It will change your view of the matrix\",\n",
    "             \"Are the human people the ones who started the war?\",\n",
    "             \"Is AI a bad thing?\"]\n",
    "\n",
    "cv = CountVectorizer(tokenizer=tokenize)\n",
    "dtm = cv.fit_transform(exam_docs).toarray()\n",
    "print(cv.get_feature_names_out())\n",
    "print(dtm)"
   ],
   "metadata": {
    "collapsed": false,
    "pycharm": {
     "name": "#%%\n"
    }
   }
  },
  {
   "cell_type": "code",
   "execution_count": 50,
   "outputs": [
    {
     "name": "stdout",
     "output_type": "stream",
     "text": [
      "             0  1  2  3  4\n",
      "2            0  1  0  0  0\n",
      "ai           0  0  0  0  1\n",
      "bad          0  0  0  0  1\n",
      "boring       1  0  0  0  0\n",
      "change       0  0  1  0  0\n",
      "definitely   0  1  0  0  0\n",
      "first        1  0  0  0  0\n",
      "human        0  0  0  1  0\n",
      "least        0  1  0  0  0\n",
      "look         1  1  0  0  0\n",
      "matrix       0  0  1  0  0\n",
      "may          1  0  0  0  0\n",
      "one          0  0  0  1  0\n",
      "part         0  1  0  0  0\n",
      "people       0  0  0  1  0\n",
      "renaissance  1  0  0  0  0\n",
      "second       1  0  0  0  0\n",
      "see          1  0  0  0  0\n",
      "started      0  0  0  1  0\n",
      "thing        0  0  0  0  1\n",
      "time         1  0  0  0  0\n",
      "twice        0  1  0  0  0\n",
      "view         0  0  1  0  0\n",
      "war          0  0  0  1  0\n",
      "watch        0  1  0  0  0\n"
     ]
    }
   ],
   "source": [
    "import pandas as pd\n",
    "import numpy as np\n",
    "\n",
    "tdm = pd.DataFrame(dtm)\n",
    "tdm.columns = cv.get_feature_names_out()\n",
    "tdm = tdm.T\n",
    "print(tdm)"
   ],
   "metadata": {
    "collapsed": false,
    "pycharm": {
     "name": "#%%\n"
    }
   }
  },
  {
   "cell_type": "code",
   "execution_count": 52,
   "outputs": [
    {
     "data": {
      "text/plain": "<matplotlib.axes._subplots.AxesSubplot at 0x7f8cab408250>"
     },
     "execution_count": 52,
     "metadata": {},
     "output_type": "execute_result"
    },
    {
     "data": {
      "text/plain": "<Figure size 432x288 with 1 Axes>",
      "image/png": "[encoded data removed]"
     },
     "metadata": {
      "needs_background": "light"
     },
     "output_type": "display_data"
    }
   ],
   "source": [
    "tdm.sum(axis=1).plot.bar()"
   ],
   "metadata": {
    "collapsed": false,
    "pycharm": {
     "name": "#%%\n"
    }
   }
  },
  {
   "cell_type": "code",
   "execution_count": null,
   "outputs": [],
   "source": [
    "# document_term_matrix\n",
    "# term_document_matrix\n"
   ],
   "metadata": {
    "collapsed": false,
    "pycharm": {
     "name": "#%%\n"
    }
   }
  },
  {
   "cell_type": "markdown",
   "source": [
    "### TF-IDF(Term Frequency-Inverse Document Frequency)\n",
    "* tf(d,t) : 특정 문서 d 에서의 특정 단어 t의 등장 횟수\n",
    "* df(t) : 특정 단어 t가 등장한 문서의 수\n",
    "* idf(d, t) : df(t)에 반비례하는 수\n",
    "    * idf(d, t) = log( n / (1 + df(5))\n",
    "    * n 은 총 문서의 수\n",
    "#### TF-IDF 의 문제점\n",
    "* TF-IDF는 텍스트, 의미 체계, 동시 발생의 위치를 고려하지 않음\n"
   ],
   "metadata": {
    "collapsed": false
   }
  },
  {
   "cell_type": "code",
   "execution_count": 63,
   "outputs": [
    {
     "name": "stdout",
     "output_type": "stream",
     "text": [
      "  (0, 2)\t0.4636932227319092\n",
      "  (0, 6)\t0.3741047724501572\n",
      "  (0, 10)\t0.4636932227319092\n",
      "  (0, 11)\t0.4636932227319092\n",
      "  (0, 14)\t0.4636932227319092\n",
      "  (1, 18)\t0.5233582502695435\n",
      "  (1, 4)\t0.5233582502695435\n",
      "  (1, 15)\t0.5233582502695435\n",
      "  (1, 6)\t0.4222421409859579\n",
      "  (2, 7)\t0.5773502691896258\n",
      "  (2, 16)\t0.5773502691896258\n",
      "  (2, 3)\t0.5773502691896258\n",
      "  (3, 17)\t0.4472135954999579\n",
      "  (3, 12)\t0.4472135954999579\n",
      "  (3, 8)\t0.4472135954999579\n",
      "  (3, 9)\t0.4472135954999579\n",
      "  (3, 5)\t0.4472135954999579\n",
      "  (4, 13)\t0.5773502691896258\n",
      "  (4, 1)\t0.5773502691896258\n",
      "  (4, 0)\t0.5773502691896258\n",
      "['ai' 'bad' 'boring' 'change' 'definitely' 'human' 'look' 'matrix' 'ones'\n",
      " 'people' 'renaissance' 'second' 'started' 'thing' 'time' 'twice' 'view'\n",
      " 'war' 'watch']\n",
      "{'time': 14, 'second': 11, 'renaissance': 10, 'look': 6, 'boring': 2, 'twice': 15, 'definitely': 4, 'watch': 18, 'change': 3, 'view': 16, 'matrix': 7, 'human': 5, 'people': 9, 'ones': 8, 'started': 12, 'war': 17, 'ai': 0, 'bad': 1, 'thing': 13}\n"
     ]
    }
   ],
   "source": [
    "from sklearn.feature_extraction.text import TfidfVectorizer\n",
    "\n",
    "vectorizer = TfidfVectorizer(stop_words='english')\n",
    "X = vectorizer.fit_transform(exam_docs)\n",
    "print(X)\n",
    "print(vectorizer.get_feature_names_out())\n",
    "print(vectorizer.vocabulary_)"
   ],
   "metadata": {
    "collapsed": false,
    "pycharm": {
     "name": "#%%\n"
    }
   }
  },
  {
   "cell_type": "code",
   "execution_count": 68,
   "outputs": [
    {
     "name": "stdout",
     "output_type": "stream",
     "text": [
      "        ai      bad    boring   change  definitely     human      look  \\\n",
      "0  0.00000  0.00000  0.463693  0.00000    0.000000  0.000000  0.374105   \n",
      "1  0.00000  0.00000  0.000000  0.00000    0.523358  0.000000  0.422242   \n",
      "2  0.00000  0.00000  0.000000  0.57735    0.000000  0.000000  0.000000   \n",
      "3  0.00000  0.00000  0.000000  0.00000    0.000000  0.447214  0.000000   \n",
      "4  0.57735  0.57735  0.000000  0.00000    0.000000  0.000000  0.000000   \n",
      "\n",
      "    matrix      ones    people  renaissance    second   started    thing  \\\n",
      "0  0.00000  0.000000  0.000000     0.463693  0.463693  0.000000  0.00000   \n",
      "1  0.00000  0.000000  0.000000     0.000000  0.000000  0.000000  0.00000   \n",
      "2  0.57735  0.000000  0.000000     0.000000  0.000000  0.000000  0.00000   \n",
      "3  0.00000  0.447214  0.447214     0.000000  0.000000  0.447214  0.00000   \n",
      "4  0.00000  0.000000  0.000000     0.000000  0.000000  0.000000  0.57735   \n",
      "\n",
      "       time     twice     view       war     watch  \n",
      "0  0.463693  0.000000  0.00000  0.000000  0.000000  \n",
      "1  0.000000  0.523358  0.00000  0.000000  0.523358  \n",
      "2  0.000000  0.000000  0.57735  0.000000  0.000000  \n",
      "3  0.000000  0.000000  0.00000  0.447214  0.000000  \n",
      "4  0.000000  0.000000  0.00000  0.000000  0.000000  \n"
     ]
    }
   ],
   "source": [
    "df = pd.DataFrame(X.toarray(), columns=vectorizer.get_feature_names_out())\n",
    "print(df)"
   ],
   "metadata": {
    "collapsed": false,
    "pycharm": {
     "name": "#%%\n"
    }
   }
  },
  {
   "cell_type": "markdown",
   "source": [
    "### word2vec\n",
    "* word 를 vector 화\n",
    "* 텍스트를 숫자로 표현하는 방법들..."
   ],
   "metadata": {
    "collapsed": false
   }
  },
  {
   "cell_type": "markdown",
   "source": [
    "### 벡터의 유사도\n",
    "* 코사인 유사도(Cosine Similarity)\n"
   ],
   "metadata": {
    "collapsed": false
   }
  },
  {
   "cell_type": "code",
   "execution_count": 71,
   "outputs": [
    {
     "name": "stdout",
     "output_type": "stream",
     "text": [
      "0.15796280007241903\n"
     ]
    }
   ],
   "source": [
    "import numpy as np\n",
    "from numpy import dot\n",
    "from numpy.linalg import norm\n",
    "\n",
    "\n",
    "def cos_sim(A, B):\n",
    "    return dot(A, B) / (norm(A) * norm(B))\n",
    "\n",
    "\n",
    "doc0 = df.iloc[0]\n",
    "# print(doc0)\n",
    "doc1 = df.iloc[1]\n",
    "# print(doc1)\n",
    "\n",
    "print(cos_sim(doc0, doc1))"
   ],
   "metadata": {
    "collapsed": false,
    "pycharm": {
     "name": "#%%\n"
    }
   }
  },
  {
   "cell_type": "code",
   "execution_count": 72,
   "outputs": [
    {
     "name": "stdout",
     "output_type": "stream",
     "text": [
      "[[1.        0.1579628 0.        0.        0.       ]\n",
      " [0.1579628 1.        0.        0.        0.       ]\n",
      " [0.        0.        1.        0.        0.       ]\n",
      " [0.        0.        0.        1.        0.       ]\n",
      " [0.        0.        0.        0.        1.       ]]\n"
     ]
    }
   ],
   "source": [
    "from sklearn.metrics.pairwise import cosine_similarity\n",
    "\n",
    "similarity = cosine_similarity(X, X)\n",
    "\n",
    "print(similarity)"
   ],
   "metadata": {
    "collapsed": false,
    "pycharm": {
     "name": "#%%\n"
    }
   }
  },
  {
   "cell_type": "markdown",
   "source": [
    "### Association Rule\n",
    "* support\n",
    "* confidence\n",
    "* lift"
   ],
   "metadata": {
    "collapsed": false
   }
  },
  {
   "cell_type": "code",
   "execution_count": 85,
   "outputs": [
    {
     "name": "stdout",
     "output_type": "stream",
     "text": [
      "           shrimp    almonds     avocado    vegetables mix green grapes  \\\n",
      "0         burgers  meatballs        eggs               NaN          NaN   \n",
      "1         chutney        NaN         NaN               NaN          NaN   \n",
      "2          turkey    avocado         NaN               NaN          NaN   \n",
      "3   mineral water       milk  energy bar  whole wheat rice    green tea   \n",
      "4  low fat yogurt        NaN         NaN               NaN          NaN   \n",
      "\n",
      "  whole weat flour yams cottage cheese energy drink tomato juice  \\\n",
      "0              NaN  NaN            NaN          NaN          NaN   \n",
      "1              NaN  NaN            NaN          NaN          NaN   \n",
      "2              NaN  NaN            NaN          NaN          NaN   \n",
      "3              NaN  NaN            NaN          NaN          NaN   \n",
      "4              NaN  NaN            NaN          NaN          NaN   \n",
      "\n",
      "  low fat yogurt green tea honey salad mineral water salmon antioxydant juice  \\\n",
      "0            NaN       NaN   NaN   NaN           NaN    NaN               NaN   \n",
      "1            NaN       NaN   NaN   NaN           NaN    NaN               NaN   \n",
      "2            NaN       NaN   NaN   NaN           NaN    NaN               NaN   \n",
      "3            NaN       NaN   NaN   NaN           NaN    NaN               NaN   \n",
      "4            NaN       NaN   NaN   NaN           NaN    NaN               NaN   \n",
      "\n",
      "  frozen smoothie spinach  olive oil  \n",
      "0             NaN     NaN        NaN  \n",
      "1             NaN     NaN        NaN  \n",
      "2             NaN     NaN        NaN  \n",
      "3             NaN     NaN        NaN  \n",
      "4             NaN     NaN        NaN  \n",
      "(7500, 20)\n",
      "['burgers' 'meatballs' 'eggs' nan nan nan nan nan nan nan nan nan nan nan\n",
      " nan nan nan nan nan nan]\n",
      "['burgers', 'meatballs', 'eggs']\n",
      "['chutney']\n"
     ]
    }
   ],
   "source": [
    "import pandas as pd\n",
    "import numpy as np\n",
    "import matplotlib.pyplot as plt\n",
    "\n",
    "dataset = pd.read_csv('/Users/megan/work/ml-study/text-mining-example/data/Market_Basket_Optimisation.csv')\n",
    "\n",
    "print(dataset.head(5))\n",
    "print(dataset.shape)\n",
    "print(dataset.iloc[0].values)\n",
    "\n",
    "transactions = []\n",
    "for i in range(0, dataset.shape[0]):\n",
    "    col_cnt = dataset.shape[1]\n",
    "    row = [str(dataset.iloc[i].values[j]) for j in range(0, col_cnt) if pd.notnull(dataset.iloc[i].values[j])]\n",
    "    transactions.append(row)\n",
    "\n",
    "print(transactions[0])\n",
    "print(transactions[1])"
   ],
   "metadata": {
    "collapsed": false,
    "pycharm": {
     "name": "#%%\n"
    }
   }
  },
  {
   "cell_type": "code",
   "execution_count": 86,
   "outputs": [
    {
     "name": "stdout",
     "output_type": "stream",
     "text": [
      "Collecting apyori\r\n",
      "  Downloading apyori-1.1.2.tar.gz (8.6 kB)\r\n",
      "Building wheels for collected packages: apyori\r\n",
      "  Building wheel for apyori (setup.py) ... \u001B[?25ldone\r\n",
      "\u001B[?25h  Created wheel for apyori: filename=apyori-1.1.2-py3-none-any.whl size=5974 sha256=bb11bdc5eb80b0f7bcaa5c770caa5be0349d29909b7a1f71b8023c01c9a2f94f\r\n",
      "  Stored in directory: /Users/megan/Library/Caches/pip/wheels/cb/f6/e1/57973c631d27efd1a2f375bd6a83b2a616c4021f24aab84080\r\n",
      "Successfully built apyori\r\n",
      "Installing collected packages: apyori\r\n",
      "Successfully installed apyori-1.1.2\r\n"
     ]
    }
   ],
   "source": [
    "!pip install apyori"
   ],
   "metadata": {
    "collapsed": false,
    "pycharm": {
     "name": "#%%\n"
    }
   }
  },
  {
   "cell_type": "code",
   "execution_count": 87,
   "outputs": [],
   "source": [
    "from apyori import apriori\n",
    "\n",
    "rules = apriori(transactions, min_support=0.003, min_confidence=0.2, min_lift=3, min_length=2)\n",
    "results = list(rules)"
   ],
   "metadata": {
    "collapsed": false,
    "pycharm": {
     "name": "#%%\n"
    }
   }
  },
  {
   "cell_type": "code",
   "execution_count": 89,
   "outputs": [
    {
     "data": {
      "text/plain": "                              items   support  \\\n0            (light cream, chicken)  0.004533   \n1  (escalope, mushroom cream sauce)  0.005733   \n2                 (escalope, pasta)  0.005867   \n3            (fromage blanc, honey)  0.003333   \n4      (ground beef, herb & pepper)  0.016000   \n5       (ground beef, tomato sauce)  0.005333   \n6          (olive oil, light cream)  0.003200   \n7    (whole wheat pasta, olive oil)  0.008000   \n8                   (shrimp, pasta)  0.005067   \n9        (milk, spaghetti, avocado)  0.003333   \n\n                                  ordered_statistics  \n0  [((light cream), (chicken), 0.2905982905982906...  \n1  [((mushroom cream sauce), (escalope), 0.300699...  \n2  [((pasta), (escalope), 0.37288135593220345, 4....  \n3  [((fromage blanc), (honey), 0.2450980392156863...  \n4  [((herb & pepper), (ground beef), 0.3234501347...  \n5  [((tomato sauce), (ground beef), 0.37735849056...  \n6  [((light cream), (olive oil), 0.20512820512820...  \n7  [((whole wheat pasta), (olive oil), 0.27149321...  \n8  [((pasta), (shrimp), 0.3220338983050848, 4.514...  \n9  [((spaghetti, avocado), (milk), 0.416666666666...  ",
      "text/html": "<div>\n<style scoped>\n    .dataframe tbody tr th:only-of-type {\n        vertical-align: middle;\n    }\n\n    .dataframe tbody tr th {\n        vertical-align: top;\n    }\n\n    .dataframe thead th {\n        text-align: right;\n    }\n</style>\n<table border=\"1\" class=\"dataframe\">\n  <thead>\n    <tr style=\"text-align: right;\">\n      <th></th>\n      <th>items</th>\n      <th>support</th>\n      <th>ordered_statistics</th>\n    </tr>\n  </thead>\n  <tbody>\n    <tr>\n      <th>0</th>\n      <td>(light cream, chicken)</td>\n      <td>0.004533</td>\n      <td>[((light cream), (chicken), 0.2905982905982906...</td>\n    </tr>\n    <tr>\n      <th>1</th>\n      <td>(escalope, mushroom cream sauce)</td>\n      <td>0.005733</td>\n      <td>[((mushroom cream sauce), (escalope), 0.300699...</td>\n    </tr>\n    <tr>\n      <th>2</th>\n      <td>(escalope, pasta)</td>\n      <td>0.005867</td>\n      <td>[((pasta), (escalope), 0.37288135593220345, 4....</td>\n    </tr>\n    <tr>\n      <th>3</th>\n      <td>(fromage blanc, honey)</td>\n      <td>0.003333</td>\n      <td>[((fromage blanc), (honey), 0.2450980392156863...</td>\n    </tr>\n    <tr>\n      <th>4</th>\n      <td>(ground beef, herb &amp; pepper)</td>\n      <td>0.016000</td>\n      <td>[((herb &amp; pepper), (ground beef), 0.3234501347...</td>\n    </tr>\n    <tr>\n      <th>5</th>\n      <td>(ground beef, tomato sauce)</td>\n      <td>0.005333</td>\n      <td>[((tomato sauce), (ground beef), 0.37735849056...</td>\n    </tr>\n    <tr>\n      <th>6</th>\n      <td>(olive oil, light cream)</td>\n      <td>0.003200</td>\n      <td>[((light cream), (olive oil), 0.20512820512820...</td>\n    </tr>\n    <tr>\n      <th>7</th>\n      <td>(whole wheat pasta, olive oil)</td>\n      <td>0.008000</td>\n      <td>[((whole wheat pasta), (olive oil), 0.27149321...</td>\n    </tr>\n    <tr>\n      <th>8</th>\n      <td>(shrimp, pasta)</td>\n      <td>0.005067</td>\n      <td>[((pasta), (shrimp), 0.3220338983050848, 4.514...</td>\n    </tr>\n    <tr>\n      <th>9</th>\n      <td>(milk, spaghetti, avocado)</td>\n      <td>0.003333</td>\n      <td>[((spaghetti, avocado), (milk), 0.416666666666...</td>\n    </tr>\n  </tbody>\n</table>\n</div>"
     },
     "execution_count": 89,
     "metadata": {},
     "output_type": "execute_result"
    }
   ],
   "source": [
    "results = pd.DataFrame(results)\n",
    "results.head(10)\n",
    "\n",
    "# support, confidence, lift"
   ],
   "metadata": {
    "collapsed": false,
    "pycharm": {
     "name": "#%%\n"
    }
   }
  },
  {
   "cell_type": "markdown",
   "source": [
    "### 감정분석(Sentiment Analysis)\n",
    "* 긍정, 중립, 부정"
   ],
   "metadata": {
    "collapsed": false
   }
  },
  {
   "cell_type": "code",
   "execution_count": 90,
   "outputs": [
    {
     "name": "stderr",
     "output_type": "stream",
     "text": [
      "[nltk_data] Downloading package names to /Users/megan/nltk_data...\n",
      "[nltk_data]   Package names is already up-to-date!\n",
      "[nltk_data] Downloading package stopwords to /Users/megan/nltk_data...\n",
      "[nltk_data]   Package stopwords is already up-to-date!\n",
      "[nltk_data] Downloading package state_union to\n",
      "[nltk_data]     /Users/megan/nltk_data...\n",
      "[nltk_data]   Package state_union is already up-to-date!\n",
      "[nltk_data] Downloading package twitter_samples to\n",
      "[nltk_data]     /Users/megan/nltk_data...\n",
      "[nltk_data]   Unzipping corpora/twitter_samples.zip.\n",
      "[nltk_data] Downloading package movie_reviews to\n",
      "[nltk_data]     /Users/megan/nltk_data...\n",
      "[nltk_data]   Package movie_reviews is already up-to-date!\n",
      "[nltk_data] Downloading package averaged_perceptron_tagger to\n",
      "[nltk_data]     /Users/megan/nltk_data...\n",
      "[nltk_data]   Package averaged_perceptron_tagger is already up-to-\n",
      "[nltk_data]       date!\n",
      "[nltk_data] Downloading package vader_lexicon to\n",
      "[nltk_data]     /Users/megan/nltk_data...\n",
      "[nltk_data] Downloading package vader_lexicon to\n",
      "[nltk_data]     /Users/megan/nltk_data...\n",
      "[nltk_data]   Package vader_lexicon is already up-to-date!\n"
     ]
    },
    {
     "data": {
      "text/plain": "True"
     },
     "execution_count": 90,
     "metadata": {},
     "output_type": "execute_result"
    }
   ],
   "source": [
    "import nltk\n",
    "\n",
    "nltk.download(\n",
    "    [\n",
    "        \"names\",\n",
    "        \"stopwords\",\n",
    "        \"state_union\",\n",
    "        \"twitter_samples\",\n",
    "        \"movie_reviews\",\n",
    "        \"averaged_perceptron_tagger\",\n",
    "        \"vader_lexicon\",\n",
    "        \"vader_lexicon\",\n",
    "    ]\n",
    ")\n"
   ],
   "metadata": {
    "collapsed": false,
    "pycharm": {
     "name": "#%%\n"
    }
   }
  },
  {
   "cell_type": "code",
   "execution_count": 95,
   "outputs": [
    {
     "name": "stdout",
     "output_type": "stream",
     "text": [
      "hopeless for tmr :(\n",
      "Everything in the kids section of IKEA is so cute. Shame I'm nearly 19 in 2 months :(\n",
      "30000\n"
     ]
    }
   ],
   "source": [
    "# To use VADER\n",
    "\n",
    "from nltk.sentiment import SentimentIntensityAnalyzer\n",
    "\n",
    "sia = SentimentIntensityAnalyzer()\n",
    "sia.polarity_scores(\"Wow, NLTK is really powerful!\")\n",
    "\n",
    "from nltk.corpus import twitter_samples\n",
    "\n",
    "tweets = [t.replace(\"://\", \"//\") for t in twitter_samples.strings()]\n",
    "print(tweets[0])\n",
    "print(tweets[1])\n",
    "\n",
    "print(len(tweets))"
   ],
   "metadata": {
    "collapsed": false,
    "pycharm": {
     "name": "#%%\n"
    }
   }
  },
  {
   "cell_type": "code",
   "execution_count": 96,
   "outputs": [
    {
     "name": "stdout",
     "output_type": "stream",
     "text": [
      "{'neg': 0.747, 'neu': 0.253, 'pos': 0.0, 'compound': -0.7096}\n",
      "{'neg': 0.26, 'neu': 0.58, 'pos': 0.16, 'compound': -0.3425}\n",
      "{'neg': 0.449, 'neu': 0.551, 'pos': 0.0, 'compound': -0.6908}\n",
      "{'neg': 0.452, 'neu': 0.548, 'pos': 0.0, 'compound': -0.765}\n",
      "{'neg': 0.326, 'neu': 0.674, 'pos': 0.0, 'compound': -0.4404}\n",
      "{'neg': 0.29, 'neu': 0.5, 'pos': 0.21, 'compound': -0.2023}\n",
      "{'neg': 0.0, 'neu': 0.615, 'pos': 0.385, 'compound': 0.3612}\n",
      "{'neg': 0.266, 'neu': 0.734, 'pos': 0.0, 'compound': -0.7003}\n",
      "{'neg': 0.0, 'neu': 1.0, 'pos': 0.0, 'compound': 0.0}\n",
      "{'neg': 0.152, 'neu': 0.848, 'pos': 0.0, 'compound': -0.3612}\n",
      "{'neg': 0.0, 'neu': 0.851, 'pos': 0.149, 'compound': 0.2724}\n",
      "{'neg': 0.492, 'neu': 0.508, 'pos': 0.0, 'compound': -0.4404}\n",
      "{'neg': 0.153, 'neu': 0.316, 'pos': 0.532, 'compound': 0.802}\n",
      "{'neg': 0.679, 'neu': 0.321, 'pos': 0.0, 'compound': -0.7474}\n",
      "{'neg': 0.152, 'neu': 0.848, 'pos': 0.0, 'compound': -0.3612}\n",
      "{'neg': 0.116, 'neu': 0.763, 'pos': 0.12, 'compound': 0.0258}\n",
      "{'neg': 0.592, 'neu': 0.408, 'pos': 0.0, 'compound': -0.4404}\n",
      "{'neg': 0.234, 'neu': 0.478, 'pos': 0.288, 'compound': 0.1139}\n",
      "{'neg': 0.238, 'neu': 0.679, 'pos': 0.083, 'compound': -0.6249}\n",
      "{'neg': 0.372, 'neu': 0.256, 'pos': 0.372, 'compound': 0.0}\n",
      "{'neg': 0.293, 'neu': 0.707, 'pos': 0.0, 'compound': -0.6597}\n",
      "{'neg': 0.476, 'neu': 0.524, 'pos': 0.0, 'compound': -0.6652}\n",
      "{'neg': 0.213, 'neu': 0.515, 'pos': 0.272, 'compound': -0.0516}\n",
      "{'neg': 0.412, 'neu': 0.588, 'pos': 0.0, 'compound': -0.1027}\n",
      "{'neg': 0.298, 'neu': 0.702, 'pos': 0.0, 'compound': -0.6249}\n",
      "{'neg': 0.639, 'neu': 0.361, 'pos': 0.0, 'compound': -0.7251}\n",
      "{'neg': 0.808, 'neu': 0.192, 'pos': 0.0, 'compound': -0.4939}\n",
      "{'neg': 0.388, 'neu': 0.612, 'pos': 0.0, 'compound': -0.4877}\n",
      "{'neg': 0.3, 'neu': 0.286, 'pos': 0.414, 'compound': 0.3818}\n",
      "{'neg': 0.362, 'neu': 0.25, 'pos': 0.388, 'compound': 0.0516}\n",
      "{'neg': 0.514, 'neu': 0.486, 'pos': 0.0, 'compound': -0.8908}\n",
      "{'neg': 0.152, 'neu': 0.848, 'pos': 0.0, 'compound': -0.3612}\n",
      "{'neg': 0.592, 'neu': 0.408, 'pos': 0.0, 'compound': -0.4404}\n",
      "{'neg': 0.367, 'neu': 0.633, 'pos': 0.0, 'compound': -0.4404}\n",
      "{'neg': 0.167, 'neu': 0.704, 'pos': 0.129, 'compound': 0.0199}\n",
      "{'neg': 0.367, 'neu': 0.633, 'pos': 0.0, 'compound': -0.4404}\n",
      "{'neg': 0.098, 'neu': 0.902, 'pos': 0.0, 'compound': -0.3612}\n",
      "{'neg': 0.203, 'neu': 0.754, 'pos': 0.043, 'compound': -0.7083}\n",
      "{'neg': 0.326, 'neu': 0.674, 'pos': 0.0, 'compound': -0.4404}\n",
      "{'neg': 0.265, 'neu': 0.735, 'pos': 0.0, 'compound': -0.6506}\n",
      "{'neg': 0.1, 'neu': 0.38, 'pos': 0.52, 'compound': 0.9346}\n",
      "{'neg': 0.188, 'neu': 0.52, 'pos': 0.292, 'compound': 0.3802}\n",
      "{'neg': 0.203, 'neu': 0.559, 'pos': 0.238, 'compound': 0.128}\n",
      "{'neg': 0.466, 'neu': 0.534, 'pos': 0.0, 'compound': -0.7269}\n",
      "{'neg': 0.0, 'neu': 0.579, 'pos': 0.421, 'compound': 0.8159}\n",
      "{'neg': 0.0, 'neu': 0.704, 'pos': 0.296, 'compound': 0.6369}\n",
      "{'neg': 0.0, 'neu': 1.0, 'pos': 0.0, 'compound': 0.0}\n",
      "{'neg': 0.293, 'neu': 0.707, 'pos': 0.0, 'compound': -0.4404}\n",
      "{'neg': 0.292, 'neu': 0.526, 'pos': 0.182, 'compound': -0.2602}\n",
      "{'neg': 0.145, 'neu': 0.751, 'pos': 0.104, 'compound': -0.1779}\n",
      "{'neg': 0.42, 'neu': 0.58, 'pos': 0.0, 'compound': -0.4404}\n",
      "{'neg': 0.412, 'neu': 0.588, 'pos': 0.0, 'compound': -0.8885}\n",
      "{'neg': 0.195, 'neu': 0.805, 'pos': 0.0, 'compound': -0.4404}\n",
      "{'neg': 0.446, 'neu': 0.362, 'pos': 0.192, 'compound': -0.4787}\n",
      "{'neg': 0.312, 'neu': 0.375, 'pos': 0.312, 'compound': 0.0}\n",
      "{'neg': 0.13, 'neu': 0.573, 'pos': 0.297, 'compound': 0.4939}\n",
      "{'neg': 0.301, 'neu': 0.699, 'pos': 0.0, 'compound': -0.784}\n",
      "{'neg': 0.141, 'neu': 0.735, 'pos': 0.124, 'compound': -0.0813}\n",
      "{'neg': 0.309, 'neu': 0.691, 'pos': 0.0, 'compound': -0.7717}\n",
      "{'neg': 0.13, 'neu': 0.622, 'pos': 0.249, 'compound': 0.3182}\n",
      "{'neg': 0.235, 'neu': 0.765, 'pos': 0.0, 'compound': -0.6002}\n",
      "{'neg': 0.178, 'neu': 0.552, 'pos': 0.27, 'compound': 0.128}\n",
      "{'neg': 0.203, 'neu': 0.436, 'pos': 0.36, 'compound': 0.4215}\n",
      "{'neg': 0.6, 'neu': 0.4, 'pos': 0.0, 'compound': -0.5423}\n",
      "{'neg': 0.714, 'neu': 0.286, 'pos': 0.0, 'compound': -0.3612}\n",
      "{'neg': 0.0, 'neu': 1.0, 'pos': 0.0, 'compound': 0.0}\n",
      "{'neg': 0.318, 'neu': 0.682, 'pos': 0.0, 'compound': -0.6808}\n",
      "{'neg': 0.6, 'neu': 0.4, 'pos': 0.0, 'compound': -0.5423}\n",
      "{'neg': 0.325, 'neu': 0.13, 'pos': 0.545, 'compound': 0.4019}\n",
      "{'neg': 0.242, 'neu': 0.417, 'pos': 0.342, 'compound': 0.0516}\n",
      "{'neg': 0.367, 'neu': 0.633, 'pos': 0.0, 'compound': -0.4404}\n",
      "{'neg': 0.345, 'neu': 0.498, 'pos': 0.157, 'compound': -0.3923}\n",
      "{'neg': 0.659, 'neu': 0.341, 'pos': 0.0, 'compound': -0.7003}\n",
      "{'neg': 0.296, 'neu': 0.408, 'pos': 0.296, 'compound': 0.0}\n",
      "{'neg': 0.097, 'neu': 0.756, 'pos': 0.147, 'compound': 0.2638}\n",
      "{'neg': 0.355, 'neu': 0.414, 'pos': 0.231, 'compound': -0.2732}\n",
      "{'neg': 0.326, 'neu': 0.674, 'pos': 0.0, 'compound': -0.4404}\n",
      "{'neg': 0.58, 'neu': 0.2, 'pos': 0.22, 'compound': -0.4215}\n",
      "{'neg': 0.733, 'neu': 0.267, 'pos': 0.0, 'compound': -0.6705}\n",
      "{'neg': 0.622, 'neu': 0.378, 'pos': 0.0, 'compound': -0.6049}\n",
      "{'neg': 0.829, 'neu': 0.171, 'pos': 0.0, 'compound': -0.5904}\n",
      "{'neg': 0.27, 'neu': 0.73, 'pos': 0.0, 'compound': -0.6349}\n",
      "{'neg': 0.412, 'neu': 0.588, 'pos': 0.0, 'compound': -0.4939}\n",
      "{'neg': 0.294, 'neu': 0.706, 'pos': 0.0, 'compound': -0.3612}\n",
      "{'neg': 0.273, 'neu': 0.727, 'pos': 0.0, 'compound': -0.3875}\n",
      "{'neg': 0.867, 'neu': 0.133, 'pos': 0.0, 'compound': -0.7579}\n",
      "{'neg': 0.344, 'neu': 0.656, 'pos': 0.0, 'compound': -0.2732}\n",
      "{'neg': 0.302, 'neu': 0.417, 'pos': 0.281, 'compound': -0.0516}\n",
      "{'neg': 1.0, 'neu': 0.0, 'pos': 0.0, 'compound': -0.7351}\n",
      "{'neg': 0.443, 'neu': 0.557, 'pos': 0.0, 'compound': -0.5829}\n",
      "{'neg': 0.515, 'neu': 0.485, 'pos': 0.0, 'compound': -0.749}\n",
      "{'neg': 0.0, 'neu': 1.0, 'pos': 0.0, 'compound': 0.0}\n",
      "{'neg': 0.337, 'neu': 0.349, 'pos': 0.314, 'compound': -0.0516}\n",
      "{'neg': 0.346, 'neu': 0.654, 'pos': 0.0, 'compound': -0.4902}\n",
      "{'neg': 0.0, 'neu': 1.0, 'pos': 0.0, 'compound': 0.0}\n",
      "{'neg': 0.255, 'neu': 0.745, 'pos': 0.0, 'compound': -0.759}\n",
      "{'neg': 0.248, 'neu': 0.598, 'pos': 0.154, 'compound': -0.2732}\n",
      "{'neg': 0.422, 'neu': 0.578, 'pos': 0.0, 'compound': -0.8074}\n",
      "{'neg': 0.439, 'neu': 0.152, 'pos': 0.409, 'compound': -0.0516}\n",
      "{'neg': 0.276, 'neu': 0.19, 'pos': 0.533, 'compound': 0.4019}\n"
     ]
    }
   ],
   "source": [
    "for t in tweets[:100]:\n",
    "    print(sia.polarity_scores(t))"
   ],
   "metadata": {
    "collapsed": false,
    "pycharm": {
     "name": "#%%\n"
    }
   }
  },
  {
   "cell_type": "code",
   "execution_count": 114,
   "outputs": [
    {
     "name": "stdout",
     "output_type": "stream",
     "text": [
      "neg/cv000_29416.txt\n",
      "['neg', 'pos']\n",
      "pos/cv000_29590.txt\n",
      "0.011944444444444447\n",
      "0.014818181818181819\n",
      "0.21269473684210527\n",
      "0.09065909090909091\n",
      "0.06267037037037038\n",
      "0.14889411764705882\n",
      "0.052587499999999995\n",
      "0.175565625\n",
      "0.029923076923076924\n",
      "-0.13511428571428571\n",
      "0.003524999999999998\n",
      "0.12829285714285713\n",
      "0.058132\n",
      "-0.03674347826086957\n",
      "-0.012442105263157895\n",
      "-0.1412057142857143\n",
      "-0.13009285714285715\n",
      "0.05767142857142857\n",
      "-0.11697894736842106\n",
      "0.019444444444444445\n"
     ]
    }
   ],
   "source": [
    "from nltk.corpus import movie_reviews\n",
    "from nltk import sent_tokenize\n",
    "from statistics import mean\n",
    "\n",
    "print(movie_reviews.fileids()[0])\n",
    "print(movie_reviews.categories())\n",
    "\n",
    "print(movie_reviews.fileids(categories=[\"pos\"])[0])\n",
    "\n",
    "positive_review_ids = movie_reviews.fileids(categories=[\"pos\"])\n",
    "negative_review_ids = movie_reviews.fileids(categories=[\"neg\"])\n",
    "all_review_ids = positive_review_ids[:10] + negative_review_ids[:10]\n",
    "\n",
    "for id in all_review_ids:\n",
    "    text = movie_reviews.raw(id)\n",
    "    scores = [\n",
    "        sia.polarity_scores(sentence)[\"compound\"]\n",
    "        for sentence in nltk.sent_tokenize(text)\n",
    "    ]\n",
    "    print(mean(scores))\n"
   ],
   "metadata": {
    "collapsed": false,
    "pycharm": {
     "name": "#%%\n"
    }
   }
  },
  {
   "cell_type": "code",
   "execution_count": 116,
   "outputs": [
    {
     "name": "stdout",
     "output_type": "stream",
     "text": [
      "Requirement already satisfied: textblob in /Users/megan/.pyenv/versions/anaconda3-2020.02/lib/python3.7/site-packages (0.17.1)\r\n",
      "Requirement already satisfied: nltk>=3.1; python_version >= \"3\" in /Users/megan/.pyenv/versions/anaconda3-2020.02/lib/python3.7/site-packages (from textblob) (3.4.5)\r\n",
      "Requirement already satisfied: six in /Users/megan/.pyenv/versions/anaconda3-2020.02/lib/python3.7/site-packages (from nltk>=3.1; python_version >= \"3\"->textblob) (1.14.0)\r\n",
      "Collecting afinn\r\n",
      "  Downloading afinn-0.1.tar.gz (52 kB)\r\n",
      "\u001B[K     |████████████████████████████████| 52 kB 3.7 MB/s eta 0:00:011\r\n",
      "\u001B[?25hBuilding wheels for collected packages: afinn\r\n",
      "  Building wheel for afinn (setup.py) ... \u001B[?25ldone\r\n",
      "\u001B[?25h  Created wheel for afinn: filename=afinn-0.1-py3-none-any.whl size=53449 sha256=c91a31fb42f20b5185f6afb0013bc0c1a99ce6c8cc5b5c80623630513aaaacdf\r\n",
      "  Stored in directory: /Users/megan/Library/Caches/pip/wheels/9d/16/3a/9f0953027434eab5dadf3f33ab3298fa95afa8292fcf7aba75\r\n",
      "Successfully built afinn\r\n",
      "Installing collected packages: afinn\r\n",
      "Successfully installed afinn-0.1\r\n"
     ]
    }
   ],
   "source": [
    "!pip install textblob\n",
    "!pip install afinn"
   ],
   "metadata": {
    "collapsed": false,
    "pycharm": {
     "name": "#%%\n"
    }
   }
  },
  {
   "cell_type": "code",
   "execution_count": 44,
   "outputs": [
    {
     "name": "stdout",
     "output_type": "stream",
     "text": [
      "   Id  EssaySet  Score1  Score2  \\\n",
      "0   1         1       1       1   \n",
      "1   2         1       1       1   \n",
      "2   3         1       1       1   \n",
      "3   4         1       0       0   \n",
      "4   5         1       2       2   \n",
      "\n",
      "                                           EssayText  \n",
      "0  Some additional information that we would need...  \n",
      "1  After reading the expirement, I realized that ...  \n",
      "2  What you need is more trials, a control set up...  \n",
      "3  The student should list what rock is better an...  \n",
      "4  For the students to be able to make a replicat...  \n"
     ]
    }
   ],
   "source": [
    "import pandas as pd\n",
    "import numpy as np\n",
    "\n",
    "test_data = pd.read_csv('/Users/megan/work/ml-study/text-mining-example/data/train_data.tsv', sep='\\t', header=0)\n",
    "print(test_data.head(5))"
   ],
   "metadata": {
    "collapsed": false,
    "pycharm": {
     "name": "#%%\n"
    }
   }
  },
  {
   "cell_type": "code",
   "execution_count": null,
   "outputs": [],
   "source": [
    "# classifier\n",
    "# 차원 축소, 토픽 모델링\n",
    "# 의미 연결망 분석 (SNA)"
   ],
   "metadata": {
    "collapsed": false,
    "pycharm": {
     "name": "#%%\n"
    }
   }
  },
  {
   "cell_type": "code",
   "execution_count": null,
   "outputs": [],
   "source": [],
   "metadata": {
    "collapsed": false,
    "pycharm": {
     "name": "#%%\n"
    }
   }
  }
 ],
 "metadata": {
  "kernelspec": {
   "display_name": "Python 3",
   "language": "python",
   "name": "python3"
  },
  "language_info": {
   "codemirror_mode": {
    "name": "ipython",
    "version": 2
   },
   "file_extension": ".py",
   "mimetype": "text/x-python",
   "name": "python",
   "nbconvert_exporter": "python",
   "pygments_lexer": "ipython2",
   "version": "2.7.6"
  }
 },
 "nbformat": 4,
 "nbformat_minor": 0
}