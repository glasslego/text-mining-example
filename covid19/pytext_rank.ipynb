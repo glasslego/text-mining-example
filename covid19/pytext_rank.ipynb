{
 "cells": [
  {
   "cell_type": "code",
   "execution_count": 81,
   "metadata": {
    "collapsed": true
   },
   "outputs": [],
   "source": [
    "import os\n",
    "import numpy as np\n",
    "import pandas as pd\n",
    "from pprint import pprint\n",
    "import matplotlib.pyplot as plt\n",
    "\n",
    "import networkx as nx\n",
    "\n",
    "import warnings\n",
    "warnings.filterwarnings(\"ignore\")"
   ]
  },
  {
   "cell_type": "code",
   "execution_count": 5,
   "outputs": [
    {
     "name": "stdout",
     "output_type": "stream",
     "text": [
      "Requirement already satisfied: spacy in /Users/megan/.pyenv/versions/anaconda3-2020.02/lib/python3.7/site-packages (3.4.2)\r\n",
      "Requirement already satisfied: numpy>=1.15.0 in /Users/megan/.pyenv/versions/anaconda3-2020.02/lib/python3.7/site-packages (from spacy) (1.20.2)\r\n",
      "Requirement already satisfied: murmurhash<1.1.0,>=0.28.0 in /Users/megan/.pyenv/versions/anaconda3-2020.02/lib/python3.7/site-packages (from spacy) (1.0.9)\r\n",
      "Requirement already satisfied: spacy-legacy<3.1.0,>=3.0.10 in /Users/megan/.pyenv/versions/anaconda3-2020.02/lib/python3.7/site-packages (from spacy) (3.0.10)\r\n",
      "Requirement already satisfied: packaging>=20.0 in /Users/megan/.pyenv/versions/anaconda3-2020.02/lib/python3.7/site-packages (from spacy) (21.3)\r\n",
      "Requirement already satisfied: requests<3.0.0,>=2.13.0 in /Users/megan/.pyenv/versions/anaconda3-2020.02/lib/python3.7/site-packages (from spacy) (2.27.1)\r\n",
      "Requirement already satisfied: catalogue<2.1.0,>=2.0.6 in /Users/megan/.pyenv/versions/anaconda3-2020.02/lib/python3.7/site-packages (from spacy) (2.0.8)\r\n",
      "Requirement already satisfied: setuptools in /Users/megan/.pyenv/versions/anaconda3-2020.02/lib/python3.7/site-packages (from spacy) (45.2.0.post20200210)\r\n",
      "Requirement already satisfied: langcodes<4.0.0,>=3.2.0 in /Users/megan/.pyenv/versions/anaconda3-2020.02/lib/python3.7/site-packages (from spacy) (3.3.0)\r\n",
      "Requirement already satisfied: spacy-loggers<2.0.0,>=1.0.0 in /Users/megan/.pyenv/versions/anaconda3-2020.02/lib/python3.7/site-packages (from spacy) (1.0.3)\r\n",
      "Requirement already satisfied: tqdm<5.0.0,>=4.38.0 in /Users/megan/.pyenv/versions/anaconda3-2020.02/lib/python3.7/site-packages (from spacy) (4.42.1)\r\n",
      "Requirement already satisfied: preshed<3.1.0,>=3.0.2 in /Users/megan/.pyenv/versions/anaconda3-2020.02/lib/python3.7/site-packages (from spacy) (3.0.8)\r\n",
      "Requirement already satisfied: pathy>=0.3.5 in /Users/megan/.pyenv/versions/anaconda3-2020.02/lib/python3.7/site-packages (from spacy) (0.6.2)\r\n",
      "Requirement already satisfied: pydantic!=1.8,!=1.8.1,<1.11.0,>=1.7.4 in /Users/megan/.pyenv/versions/anaconda3-2020.02/lib/python3.7/site-packages (from spacy) (1.10.2)\r\n",
      "Requirement already satisfied: typer<0.5.0,>=0.3.0 in /Users/megan/.pyenv/versions/anaconda3-2020.02/lib/python3.7/site-packages (from spacy) (0.4.2)\r\n",
      "Requirement already satisfied: thinc<8.2.0,>=8.1.0 in /Users/megan/.pyenv/versions/anaconda3-2020.02/lib/python3.7/site-packages (from spacy) (8.1.5)\r\n",
      "Requirement already satisfied: typing-extensions<4.2.0,>=3.7.4; python_version < \"3.8\" in /Users/megan/.pyenv/versions/anaconda3-2020.02/lib/python3.7/site-packages (from spacy) (4.1.1)\r\n",
      "Requirement already satisfied: cymem<2.1.0,>=2.0.2 in /Users/megan/.pyenv/versions/anaconda3-2020.02/lib/python3.7/site-packages (from spacy) (2.0.7)\r\n",
      "Requirement already satisfied: jinja2 in /Users/megan/.pyenv/versions/anaconda3-2020.02/lib/python3.7/site-packages (from spacy) (2.11.1)\r\n",
      "Requirement already satisfied: srsly<3.0.0,>=2.4.3 in /Users/megan/.pyenv/versions/anaconda3-2020.02/lib/python3.7/site-packages (from spacy) (2.4.5)\r\n",
      "Requirement already satisfied: wasabi<1.1.0,>=0.9.1 in /Users/megan/.pyenv/versions/anaconda3-2020.02/lib/python3.7/site-packages (from spacy) (0.10.1)\r\n",
      "Requirement already satisfied: pyparsing!=3.0.5,>=2.0.2 in /Users/megan/.pyenv/versions/anaconda3-2020.02/lib/python3.7/site-packages (from packaging>=20.0->spacy) (2.4.6)\r\n",
      "Requirement already satisfied: urllib3<1.27,>=1.21.1 in /Users/megan/.pyenv/versions/anaconda3-2020.02/lib/python3.7/site-packages (from requests<3.0.0,>=2.13.0->spacy) (1.26.9)\r\n",
      "Requirement already satisfied: charset-normalizer~=2.0.0; python_version >= \"3\" in /Users/megan/.pyenv/versions/anaconda3-2020.02/lib/python3.7/site-packages (from requests<3.0.0,>=2.13.0->spacy) (2.0.12)\r\n",
      "Requirement already satisfied: idna<4,>=2.5; python_version >= \"3\" in /Users/megan/.pyenv/versions/anaconda3-2020.02/lib/python3.7/site-packages (from requests<3.0.0,>=2.13.0->spacy) (2.8)\r\n",
      "Requirement already satisfied: certifi>=2017.4.17 in /Users/megan/.pyenv/versions/anaconda3-2020.02/lib/python3.7/site-packages (from requests<3.0.0,>=2.13.0->spacy) (2021.10.8)\r\n",
      "Requirement already satisfied: zipp>=0.5; python_version < \"3.8\" in /Users/megan/.pyenv/versions/anaconda3-2020.02/lib/python3.7/site-packages (from catalogue<2.1.0,>=2.0.6->spacy) (2.2.0)\r\n",
      "Requirement already satisfied: smart-open<6.0.0,>=5.2.1 in /Users/megan/.pyenv/versions/anaconda3-2020.02/lib/python3.7/site-packages (from pathy>=0.3.5->spacy) (5.2.1)\r\n",
      "Requirement already satisfied: click<9.0.0,>=7.1.1 in /Users/megan/.pyenv/versions/anaconda3-2020.02/lib/python3.7/site-packages (from typer<0.5.0,>=0.3.0->spacy) (8.1.3)\r\n",
      "Requirement already satisfied: blis<0.8.0,>=0.7.8 in /Users/megan/.pyenv/versions/anaconda3-2020.02/lib/python3.7/site-packages (from thinc<8.2.0,>=8.1.0->spacy) (0.7.9)\r\n",
      "Requirement already satisfied: confection<1.0.0,>=0.0.1 in /Users/megan/.pyenv/versions/anaconda3-2020.02/lib/python3.7/site-packages (from thinc<8.2.0,>=8.1.0->spacy) (0.0.3)\r\n",
      "Requirement already satisfied: MarkupSafe>=0.23 in /Users/megan/.pyenv/versions/anaconda3-2020.02/lib/python3.7/site-packages (from jinja2->spacy) (1.1.1)\r\n",
      "Requirement already satisfied: importlib-metadata; python_version < \"3.8\" in /Users/megan/.pyenv/versions/anaconda3-2020.02/lib/python3.7/site-packages (from click<9.0.0,>=7.1.1->typer<0.5.0,>=0.3.0->spacy) (1.5.0)\r\n",
      "Collecting pytextrank\r\n",
      "  Downloading pytextrank-3.2.4-py3-none-any.whl (30 kB)\r\n",
      "Collecting icecream>=2.1\r\n",
      "  Downloading icecream-2.1.3-py2.py3-none-any.whl (8.4 kB)\r\n",
      "Collecting scipy>=1.7\r\n",
      "  Using cached scipy-1.7.3-cp37-cp37m-macosx_10_9_x86_64.whl (33.0 MB)\r\n",
      "Collecting pygments>=2.7.4\r\n",
      "  Downloading Pygments-2.13.0-py3-none-any.whl (1.1 MB)\r\n",
      "\u001B[K     |████████████████████████████████| 1.1 MB 10.6 MB/s eta 0:00:01\r\n",
      "\u001B[?25hCollecting graphviz>=0.13\r\n",
      "  Downloading graphviz-0.20.1-py3-none-any.whl (47 kB)\r\n",
      "\u001B[K     |████████████████████████████████| 47 kB 10.7 MB/s eta 0:00:01\r\n",
      "\u001B[?25hCollecting networkx[default]>=2.6\r\n",
      "  Downloading networkx-2.6.3-py3-none-any.whl (1.9 MB)\r\n",
      "\u001B[K     |████████████████████████████████| 1.9 MB 11.4 MB/s eta 0:00:01\r\n",
      "\u001B[?25hRequirement already satisfied: spacy>=3.0 in /Users/megan/.pyenv/versions/anaconda3-2020.02/lib/python3.7/site-packages (from pytextrank) (3.4.2)\r\n",
      "Requirement already satisfied: colorama>=0.3.9 in /Users/megan/.pyenv/versions/anaconda3-2020.02/lib/python3.7/site-packages (from icecream>=2.1->pytextrank) (0.4.3)\r\n",
      "Collecting executing>=0.3.1\r\n",
      "  Downloading executing-1.1.1-py2.py3-none-any.whl (22 kB)\r\n",
      "Collecting asttokens>=2.0.1\r\n",
      "  Downloading asttokens-2.0.8-py2.py3-none-any.whl (23 kB)\r\n",
      "Requirement already satisfied: numpy<1.23.0,>=1.16.5 in /Users/megan/.pyenv/versions/anaconda3-2020.02/lib/python3.7/site-packages (from scipy>=1.7->pytextrank) (1.20.2)\r\n",
      "Requirement already satisfied: pandas>=1.1; extra == \"default\" in /Users/megan/.pyenv/versions/anaconda3-2020.02/lib/python3.7/site-packages (from networkx[default]>=2.6->pytextrank) (1.2.4)\r\n",
      "Collecting matplotlib>=3.3; extra == \"default\"\r\n",
      "  Downloading matplotlib-3.5.3-cp37-cp37m-macosx_10_9_x86_64.whl (7.3 MB)\r\n",
      "\u001B[K     |████████████████████████████████| 7.3 MB 6.7 MB/s eta 0:00:01\r\n",
      "\u001B[?25hRequirement already satisfied: spacy-legacy<3.1.0,>=3.0.10 in /Users/megan/.pyenv/versions/anaconda3-2020.02/lib/python3.7/site-packages (from spacy>=3.0->pytextrank) (3.0.10)\r\n",
      "Requirement already satisfied: cymem<2.1.0,>=2.0.2 in /Users/megan/.pyenv/versions/anaconda3-2020.02/lib/python3.7/site-packages (from spacy>=3.0->pytextrank) (2.0.7)\r\n",
      "Requirement already satisfied: srsly<3.0.0,>=2.4.3 in /Users/megan/.pyenv/versions/anaconda3-2020.02/lib/python3.7/site-packages (from spacy>=3.0->pytextrank) (2.4.5)\r\n",
      "Requirement already satisfied: thinc<8.2.0,>=8.1.0 in /Users/megan/.pyenv/versions/anaconda3-2020.02/lib/python3.7/site-packages (from spacy>=3.0->pytextrank) (8.1.5)\r\n",
      "Requirement already satisfied: langcodes<4.0.0,>=3.2.0 in /Users/megan/.pyenv/versions/anaconda3-2020.02/lib/python3.7/site-packages (from spacy>=3.0->pytextrank) (3.3.0)\r\n",
      "Requirement already satisfied: pydantic!=1.8,!=1.8.1,<1.11.0,>=1.7.4 in /Users/megan/.pyenv/versions/anaconda3-2020.02/lib/python3.7/site-packages (from spacy>=3.0->pytextrank) (1.10.2)\r\n",
      "Requirement already satisfied: murmurhash<1.1.0,>=0.28.0 in /Users/megan/.pyenv/versions/anaconda3-2020.02/lib/python3.7/site-packages (from spacy>=3.0->pytextrank) (1.0.9)\r\n",
      "Requirement already satisfied: preshed<3.1.0,>=3.0.2 in /Users/megan/.pyenv/versions/anaconda3-2020.02/lib/python3.7/site-packages (from spacy>=3.0->pytextrank) (3.0.8)\r\n",
      "Requirement already satisfied: spacy-loggers<2.0.0,>=1.0.0 in /Users/megan/.pyenv/versions/anaconda3-2020.02/lib/python3.7/site-packages (from spacy>=3.0->pytextrank) (1.0.3)\r\n",
      "Requirement already satisfied: requests<3.0.0,>=2.13.0 in /Users/megan/.pyenv/versions/anaconda3-2020.02/lib/python3.7/site-packages (from spacy>=3.0->pytextrank) (2.27.1)\r\n",
      "Requirement already satisfied: setuptools in /Users/megan/.pyenv/versions/anaconda3-2020.02/lib/python3.7/site-packages (from spacy>=3.0->pytextrank) (45.2.0.post20200210)\r\n",
      "Requirement already satisfied: jinja2 in /Users/megan/.pyenv/versions/anaconda3-2020.02/lib/python3.7/site-packages (from spacy>=3.0->pytextrank) (2.11.1)\r\n",
      "Requirement already satisfied: pathy>=0.3.5 in /Users/megan/.pyenv/versions/anaconda3-2020.02/lib/python3.7/site-packages (from spacy>=3.0->pytextrank) (0.6.2)\r\n",
      "Requirement already satisfied: catalogue<2.1.0,>=2.0.6 in /Users/megan/.pyenv/versions/anaconda3-2020.02/lib/python3.7/site-packages (from spacy>=3.0->pytextrank) (2.0.8)\r\n",
      "Requirement already satisfied: tqdm<5.0.0,>=4.38.0 in /Users/megan/.pyenv/versions/anaconda3-2020.02/lib/python3.7/site-packages (from spacy>=3.0->pytextrank) (4.42.1)\r\n",
      "Requirement already satisfied: packaging>=20.0 in /Users/megan/.pyenv/versions/anaconda3-2020.02/lib/python3.7/site-packages (from spacy>=3.0->pytextrank) (21.3)\r\n",
      "Requirement already satisfied: typing-extensions<4.2.0,>=3.7.4; python_version < \"3.8\" in /Users/megan/.pyenv/versions/anaconda3-2020.02/lib/python3.7/site-packages (from spacy>=3.0->pytextrank) (4.1.1)\r\n",
      "Requirement already satisfied: typer<0.5.0,>=0.3.0 in /Users/megan/.pyenv/versions/anaconda3-2020.02/lib/python3.7/site-packages (from spacy>=3.0->pytextrank) (0.4.2)\r\n",
      "Requirement already satisfied: wasabi<1.1.0,>=0.9.1 in /Users/megan/.pyenv/versions/anaconda3-2020.02/lib/python3.7/site-packages (from spacy>=3.0->pytextrank) (0.10.1)\r\n",
      "Requirement already satisfied: six in /Users/megan/.pyenv/versions/anaconda3-2020.02/lib/python3.7/site-packages (from asttokens>=2.0.1->icecream>=2.1->pytextrank) (1.14.0)\r\n",
      "Requirement already satisfied: python-dateutil>=2.7.3 in /Users/megan/.pyenv/versions/anaconda3-2020.02/lib/python3.7/site-packages (from pandas>=1.1; extra == \"default\"->networkx[default]>=2.6->pytextrank) (2.8.1)\r\n",
      "Requirement already satisfied: pytz>=2017.3 in /Users/megan/.pyenv/versions/anaconda3-2020.02/lib/python3.7/site-packages (from pandas>=1.1; extra == \"default\"->networkx[default]>=2.6->pytextrank) (2019.3)\r\n",
      "Requirement already satisfied: cycler>=0.10 in /Users/megan/.pyenv/versions/anaconda3-2020.02/lib/python3.7/site-packages (from matplotlib>=3.3; extra == \"default\"->networkx[default]>=2.6->pytextrank) (0.10.0)\r\n",
      "Requirement already satisfied: pyparsing>=2.2.1 in /Users/megan/.pyenv/versions/anaconda3-2020.02/lib/python3.7/site-packages (from matplotlib>=3.3; extra == \"default\"->networkx[default]>=2.6->pytextrank) (2.4.6)\r\n",
      "Requirement already satisfied: kiwisolver>=1.0.1 in /Users/megan/.pyenv/versions/anaconda3-2020.02/lib/python3.7/site-packages (from matplotlib>=3.3; extra == \"default\"->networkx[default]>=2.6->pytextrank) (1.1.0)\r\n",
      "Collecting fonttools>=4.22.0\r\n",
      "  Downloading fonttools-4.37.4-py3-none-any.whl (960 kB)\r\n",
      "\u001B[K     |████████████████████████████████| 960 kB 1.6 MB/s eta 0:00:01\r\n",
      "\u001B[?25hRequirement already satisfied: pillow>=6.2.0 in /Users/megan/.pyenv/versions/anaconda3-2020.02/lib/python3.7/site-packages (from matplotlib>=3.3; extra == \"default\"->networkx[default]>=2.6->pytextrank) (7.0.0)\r\n",
      "Requirement already satisfied: confection<1.0.0,>=0.0.1 in /Users/megan/.pyenv/versions/anaconda3-2020.02/lib/python3.7/site-packages (from thinc<8.2.0,>=8.1.0->spacy>=3.0->pytextrank) (0.0.3)\r\n",
      "Requirement already satisfied: blis<0.8.0,>=0.7.8 in /Users/megan/.pyenv/versions/anaconda3-2020.02/lib/python3.7/site-packages (from thinc<8.2.0,>=8.1.0->spacy>=3.0->pytextrank) (0.7.9)\r\n",
      "Requirement already satisfied: urllib3<1.27,>=1.21.1 in /Users/megan/.pyenv/versions/anaconda3-2020.02/lib/python3.7/site-packages (from requests<3.0.0,>=2.13.0->spacy>=3.0->pytextrank) (1.26.9)\r\n",
      "Requirement already satisfied: idna<4,>=2.5; python_version >= \"3\" in /Users/megan/.pyenv/versions/anaconda3-2020.02/lib/python3.7/site-packages (from requests<3.0.0,>=2.13.0->spacy>=3.0->pytextrank) (2.8)\r\n",
      "Requirement already satisfied: charset-normalizer~=2.0.0; python_version >= \"3\" in /Users/megan/.pyenv/versions/anaconda3-2020.02/lib/python3.7/site-packages (from requests<3.0.0,>=2.13.0->spacy>=3.0->pytextrank) (2.0.12)\r\n",
      "Requirement already satisfied: certifi>=2017.4.17 in /Users/megan/.pyenv/versions/anaconda3-2020.02/lib/python3.7/site-packages (from requests<3.0.0,>=2.13.0->spacy>=3.0->pytextrank) (2021.10.8)\r\n",
      "Requirement already satisfied: MarkupSafe>=0.23 in /Users/megan/.pyenv/versions/anaconda3-2020.02/lib/python3.7/site-packages (from jinja2->spacy>=3.0->pytextrank) (1.1.1)\r\n",
      "Requirement already satisfied: smart-open<6.0.0,>=5.2.1 in /Users/megan/.pyenv/versions/anaconda3-2020.02/lib/python3.7/site-packages (from pathy>=0.3.5->spacy>=3.0->pytextrank) (5.2.1)\r\n",
      "Requirement already satisfied: zipp>=0.5; python_version < \"3.8\" in /Users/megan/.pyenv/versions/anaconda3-2020.02/lib/python3.7/site-packages (from catalogue<2.1.0,>=2.0.6->spacy>=3.0->pytextrank) (2.2.0)\r\n",
      "Requirement already satisfied: click<9.0.0,>=7.1.1 in /Users/megan/.pyenv/versions/anaconda3-2020.02/lib/python3.7/site-packages (from typer<0.5.0,>=0.3.0->spacy>=3.0->pytextrank) (8.1.3)\r\n",
      "Requirement already satisfied: importlib-metadata; python_version < \"3.8\" in /Users/megan/.pyenv/versions/anaconda3-2020.02/lib/python3.7/site-packages (from click<9.0.0,>=7.1.1->typer<0.5.0,>=0.3.0->spacy>=3.0->pytextrank) (1.5.0)\r\n",
      "\u001B[31mERROR: spyder 4.0.1 requires pyqt5<5.13; python_version >= \"3\", which is not installed.\u001B[0m\r\n",
      "\u001B[31mERROR: spyder 4.0.1 requires pyqtwebengine<5.13; python_version >= \"3\", which is not installed.\u001B[0m\r\n",
      "Installing collected packages: executing, pygments, asttokens, icecream, scipy, graphviz, fonttools, matplotlib, networkx, pytextrank\r\n",
      "  Attempting uninstall: pygments\r\n",
      "    Found existing installation: Pygments 2.5.2\r\n",
      "    Uninstalling Pygments-2.5.2:\r\n",
      "      Successfully uninstalled Pygments-2.5.2\r\n",
      "  Attempting uninstall: scipy\r\n",
      "    Found existing installation: scipy 1.6.2\r\n",
      "    Uninstalling scipy-1.6.2:\r\n",
      "      Successfully uninstalled scipy-1.6.2\r\n",
      "  Attempting uninstall: matplotlib\r\n",
      "    Found existing installation: matplotlib 3.1.3\r\n",
      "    Uninstalling matplotlib-3.1.3:\r\n",
      "      Successfully uninstalled matplotlib-3.1.3\r\n",
      "  Attempting uninstall: networkx\r\n",
      "    Found existing installation: networkx 2.4\r\n",
      "    Uninstalling networkx-2.4:\r\n",
      "      Successfully uninstalled networkx-2.4\r\n",
      "Successfully installed asttokens-2.0.8 executing-1.1.1 fonttools-4.37.4 graphviz-0.20.1 icecream-2.1.3 matplotlib-3.5.3 networkx-2.6.3 pygments-2.13.0 pytextrank-3.2.4 scipy-1.7.3\r\n"
     ]
    }
   ],
   "source": [
    "!pip install spacy\n",
    "!pip install pytextrank"
   ],
   "metadata": {
    "collapsed": false,
    "pycharm": {
     "name": "#%%\n"
    }
   }
  },
  {
   "cell_type": "code",
   "execution_count": 67,
   "outputs": [
    {
     "name": "stdout",
     "output_type": "stream",
     "text": [
      "Requirement already satisfied: en-core-web-sm==3.4.1 from https://github.com/explosion/spacy-models/releases/download/en_core_web_sm-3.4.1/en_core_web_sm-3.4.1-py3-none-any.whl in /Users/megan/.pyenv/versions/anaconda3-2020.02/lib/python3.7/site-packages (3.4.1)\r\n",
      "Requirement already satisfied: spacy<3.5.0,>=3.4.0 in /Users/megan/.pyenv/versions/anaconda3-2020.02/lib/python3.7/site-packages (from en-core-web-sm==3.4.1) (3.4.2)\r\n",
      "Requirement already satisfied: typing-extensions<4.2.0,>=3.7.4; python_version < \"3.8\" in /Users/megan/.pyenv/versions/anaconda3-2020.02/lib/python3.7/site-packages (from spacy<3.5.0,>=3.4.0->en-core-web-sm==3.4.1) (4.1.1)\r\n",
      "Requirement already satisfied: catalogue<2.1.0,>=2.0.6 in /Users/megan/.pyenv/versions/anaconda3-2020.02/lib/python3.7/site-packages (from spacy<3.5.0,>=3.4.0->en-core-web-sm==3.4.1) (2.0.8)\r\n",
      "Requirement already satisfied: typer<0.5.0,>=0.3.0 in /Users/megan/.pyenv/versions/anaconda3-2020.02/lib/python3.7/site-packages (from spacy<3.5.0,>=3.4.0->en-core-web-sm==3.4.1) (0.4.2)\r\n",
      "Requirement already satisfied: pydantic!=1.8,!=1.8.1,<1.11.0,>=1.7.4 in /Users/megan/.pyenv/versions/anaconda3-2020.02/lib/python3.7/site-packages (from spacy<3.5.0,>=3.4.0->en-core-web-sm==3.4.1) (1.10.2)\r\n",
      "Requirement already satisfied: packaging>=20.0 in /Users/megan/.pyenv/versions/anaconda3-2020.02/lib/python3.7/site-packages (from spacy<3.5.0,>=3.4.0->en-core-web-sm==3.4.1) (21.3)\r\n",
      "Requirement already satisfied: pathy>=0.3.5 in /Users/megan/.pyenv/versions/anaconda3-2020.02/lib/python3.7/site-packages (from spacy<3.5.0,>=3.4.0->en-core-web-sm==3.4.1) (0.6.2)\r\n",
      "Requirement already satisfied: spacy-legacy<3.1.0,>=3.0.10 in /Users/megan/.pyenv/versions/anaconda3-2020.02/lib/python3.7/site-packages (from spacy<3.5.0,>=3.4.0->en-core-web-sm==3.4.1) (3.0.10)\r\n",
      "Requirement already satisfied: numpy>=1.15.0 in /Users/megan/.pyenv/versions/anaconda3-2020.02/lib/python3.7/site-packages (from spacy<3.5.0,>=3.4.0->en-core-web-sm==3.4.1) (1.20.2)\r\n",
      "Requirement already satisfied: murmurhash<1.1.0,>=0.28.0 in /Users/megan/.pyenv/versions/anaconda3-2020.02/lib/python3.7/site-packages (from spacy<3.5.0,>=3.4.0->en-core-web-sm==3.4.1) (1.0.9)\r\n",
      "Requirement already satisfied: spacy-loggers<2.0.0,>=1.0.0 in /Users/megan/.pyenv/versions/anaconda3-2020.02/lib/python3.7/site-packages (from spacy<3.5.0,>=3.4.0->en-core-web-sm==3.4.1) (1.0.3)\r\n",
      "Requirement already satisfied: preshed<3.1.0,>=3.0.2 in /Users/megan/.pyenv/versions/anaconda3-2020.02/lib/python3.7/site-packages (from spacy<3.5.0,>=3.4.0->en-core-web-sm==3.4.1) (3.0.8)\r\n",
      "Requirement already satisfied: thinc<8.2.0,>=8.1.0 in /Users/megan/.pyenv/versions/anaconda3-2020.02/lib/python3.7/site-packages (from spacy<3.5.0,>=3.4.0->en-core-web-sm==3.4.1) (8.1.5)\r\n",
      "Requirement already satisfied: jinja2 in /Users/megan/.pyenv/versions/anaconda3-2020.02/lib/python3.7/site-packages (from spacy<3.5.0,>=3.4.0->en-core-web-sm==3.4.1) (2.11.1)\r\n",
      "Requirement already satisfied: wasabi<1.1.0,>=0.9.1 in /Users/megan/.pyenv/versions/anaconda3-2020.02/lib/python3.7/site-packages (from spacy<3.5.0,>=3.4.0->en-core-web-sm==3.4.1) (0.10.1)\r\n",
      "Requirement already satisfied: setuptools in /Users/megan/.pyenv/versions/anaconda3-2020.02/lib/python3.7/site-packages (from spacy<3.5.0,>=3.4.0->en-core-web-sm==3.4.1) (45.2.0.post20200210)\r\n",
      "Requirement already satisfied: tqdm<5.0.0,>=4.38.0 in /Users/megan/.pyenv/versions/anaconda3-2020.02/lib/python3.7/site-packages (from spacy<3.5.0,>=3.4.0->en-core-web-sm==3.4.1) (4.42.1)\r\n",
      "Requirement already satisfied: requests<3.0.0,>=2.13.0 in /Users/megan/.pyenv/versions/anaconda3-2020.02/lib/python3.7/site-packages (from spacy<3.5.0,>=3.4.0->en-core-web-sm==3.4.1) (2.27.1)\r\n",
      "Requirement already satisfied: langcodes<4.0.0,>=3.2.0 in /Users/megan/.pyenv/versions/anaconda3-2020.02/lib/python3.7/site-packages (from spacy<3.5.0,>=3.4.0->en-core-web-sm==3.4.1) (3.3.0)\r\n",
      "Requirement already satisfied: srsly<3.0.0,>=2.4.3 in /Users/megan/.pyenv/versions/anaconda3-2020.02/lib/python3.7/site-packages (from spacy<3.5.0,>=3.4.0->en-core-web-sm==3.4.1) (2.4.5)\r\n",
      "Requirement already satisfied: cymem<2.1.0,>=2.0.2 in /Users/megan/.pyenv/versions/anaconda3-2020.02/lib/python3.7/site-packages (from spacy<3.5.0,>=3.4.0->en-core-web-sm==3.4.1) (2.0.7)\r\n",
      "Requirement already satisfied: zipp>=0.5; python_version < \"3.8\" in /Users/megan/.pyenv/versions/anaconda3-2020.02/lib/python3.7/site-packages (from catalogue<2.1.0,>=2.0.6->spacy<3.5.0,>=3.4.0->en-core-web-sm==3.4.1) (2.2.0)\r\n",
      "Requirement already satisfied: click<9.0.0,>=7.1.1 in /Users/megan/.pyenv/versions/anaconda3-2020.02/lib/python3.7/site-packages (from typer<0.5.0,>=0.3.0->spacy<3.5.0,>=3.4.0->en-core-web-sm==3.4.1) (8.1.3)\r\n",
      "Requirement already satisfied: pyparsing!=3.0.5,>=2.0.2 in /Users/megan/.pyenv/versions/anaconda3-2020.02/lib/python3.7/site-packages (from packaging>=20.0->spacy<3.5.0,>=3.4.0->en-core-web-sm==3.4.1) (2.4.6)\r\n",
      "Requirement already satisfied: smart-open<6.0.0,>=5.2.1 in /Users/megan/.pyenv/versions/anaconda3-2020.02/lib/python3.7/site-packages (from pathy>=0.3.5->spacy<3.5.0,>=3.4.0->en-core-web-sm==3.4.1) (5.2.1)\r\n",
      "Requirement already satisfied: blis<0.8.0,>=0.7.8 in /Users/megan/.pyenv/versions/anaconda3-2020.02/lib/python3.7/site-packages (from thinc<8.2.0,>=8.1.0->spacy<3.5.0,>=3.4.0->en-core-web-sm==3.4.1) (0.7.9)\r\n",
      "Requirement already satisfied: confection<1.0.0,>=0.0.1 in /Users/megan/.pyenv/versions/anaconda3-2020.02/lib/python3.7/site-packages (from thinc<8.2.0,>=8.1.0->spacy<3.5.0,>=3.4.0->en-core-web-sm==3.4.1) (0.0.3)\r\n",
      "Requirement already satisfied: MarkupSafe>=0.23 in /Users/megan/.pyenv/versions/anaconda3-2020.02/lib/python3.7/site-packages (from jinja2->spacy<3.5.0,>=3.4.0->en-core-web-sm==3.4.1) (1.1.1)\r\n",
      "Requirement already satisfied: certifi>=2017.4.17 in /Users/megan/.pyenv/versions/anaconda3-2020.02/lib/python3.7/site-packages (from requests<3.0.0,>=2.13.0->spacy<3.5.0,>=3.4.0->en-core-web-sm==3.4.1) (2021.10.8)\r\n",
      "Requirement already satisfied: urllib3<1.27,>=1.21.1 in /Users/megan/.pyenv/versions/anaconda3-2020.02/lib/python3.7/site-packages (from requests<3.0.0,>=2.13.0->spacy<3.5.0,>=3.4.0->en-core-web-sm==3.4.1) (1.26.9)\r\n",
      "Requirement already satisfied: idna<4,>=2.5; python_version >= \"3\" in /Users/megan/.pyenv/versions/anaconda3-2020.02/lib/python3.7/site-packages (from requests<3.0.0,>=2.13.0->spacy<3.5.0,>=3.4.0->en-core-web-sm==3.4.1) (2.8)\r\n",
      "Requirement already satisfied: charset-normalizer~=2.0.0; python_version >= \"3\" in /Users/megan/.pyenv/versions/anaconda3-2020.02/lib/python3.7/site-packages (from requests<3.0.0,>=2.13.0->spacy<3.5.0,>=3.4.0->en-core-web-sm==3.4.1) (2.0.12)\r\n",
      "Requirement already satisfied: importlib-metadata; python_version < \"3.8\" in /Users/megan/.pyenv/versions/anaconda3-2020.02/lib/python3.7/site-packages (from click<9.0.0,>=7.1.1->typer<0.5.0,>=0.3.0->spacy<3.5.0,>=3.4.0->en-core-web-sm==3.4.1) (1.5.0)\r\n",
      "\u001B[38;5;2m✔ Download and installation successful\u001B[0m\r\n",
      "You can now load the package via spacy.load('en_core_web_sm')\r\n"
     ]
    }
   ],
   "source": [
    "!python -m spacy download en_core_web_sm"
   ],
   "metadata": {
    "collapsed": false,
    "pycharm": {
     "name": "#%%\n"
    }
   }
  },
  {
   "cell_type": "code",
   "execution_count": 52,
   "outputs": [
    {
     "name": "stdout",
     "output_type": "stream",
     "text": [
      "mutations reveal coronavirus moves easy overinterpret science aaas mmediately christian drosten published genetic sequence novel coronavirus online 28 february took twitter issue warning virus raced around world 350 genome sequences shared online platform gisaid hold clues new virus named severe acute respiratory syndrome coronavirus 2 sars cov 2 spreading evolving sequences represent tiny fraction cases show telltale differences easy overinterpret drosten realized virologist charité university hospital berlin sequenced virus german patient infected covid 19 italy genome looked similar virus found patient munich capital bavaria 1 month earlier shared three mutations seen early sequences china drosten realized could give rise idea italian outbreak seeded one bavaria state public health officials said quashed tracing quarantining contacts 14 confirmed cases thought likely chinese variant carrying three mutations taken independent routes countries newly sequenced genome sufficient claim link munich italy drosten tweetedwuhan novel coronavirus 2019ncov information open access article wuhan novel coronavirus 2019ncov doaj doaj online directory indexes provides access quality open access peer reviewed journalssynthesis structure activity relationship studies water soluble β cyclodextrin glycyrrhetinic acid conjugates potential anti influenza virus agents abstract glycyrrhetinic acid ga major constituent herb glycyrrhiza glabra many derivatives demonstrate broad spectrum antiviral activities current study 18 water soluble β cyclodextrin cd ga conjugates ga covalently coupled primary face β cd using 1 2 3 triazole moiety along varying lengths linker synthesized via copper catalyzed azide alkyl cycloaddition reaction benefited attached β cd moiety conjugates showed lower hydrophobicity alogp compared parent compound ga exception per methylated β cd ga conjugate 35 conjugates showed significant cytotoxicity mdck cells conjugates screened wsn 33 h1n1 virus using cytopathic effect assay preliminary results indicated six conjugates showed promising antiviral activity c 3 c 30 ga could tolerate modifications findings suggested ga could used lead compound development potential anti influenza virus agentscis acting function coronavirus leader defective interfering rna replication test hypothesis 65 nucleotide nt leader subgenomic mrnas suffices 5 terminal cis acting signal rna replication corollary notion coronavirus mrnas behave replicons synthetic rna transcripts cloned reporter containing n mrna mrna 7 bovine coronavirus precise 5 terminus 3 poly 68 nt tested replication transfected helper virus infected cells replication observed synthetic transcripts cloned reporter containing defective interfering di rna differing n mrna construct 433 nt continuous 5 proximal genomic sequence leader n open reading frame replicate become packaged indicating insufficiency leader alone 5 signal replication transfected rna molecules leader shown necessary part cis acting signal di rna replication however since removal terminal bases destroyed predicted intraleader stem loop also destroyed replicating ability surprisingly stem loop disrupted base substitutions replication appeared minimally impaired leader found rapidly reverted wild type di rna replication phenomenon reminiscent high frequency leader switching mouse hepatitis coronavirus results suggest minimal structural requirement leader fulfilled initiation di rna replication wild type leader strongly preferred subsequent replication also demonstrate contrast reported natural mouse hepatitis coronavirus di rnas di rna bovine coronavirus require sequence elements originating discontinuous downstream regions within polymerase gene replication packagingmechanism genome transcription segmented dsrna viruses publisher summary chapter discusses mechanism genome transcription segmented double stranded rna dsrna viruses genome transcription critical stage life cycle virus process viral genetic information presented host cell protein synthesis machinery production viral proteins needed genome replication progeny virion assembly viruses dsrna genomes face particular challenge host cells produce proteins transcribe dsrna template one striking observations genome transcription dsrna viruses process occurs efficiently transcriptionally competent particle fully intact observation suggests components transcriptionally competent particle including viral genome transcription enzymes viral capsid function together produce release messenger rna transcripts component specific critical role play promoting efficiency process\n"
     ]
    }
   ],
   "source": [
    "text = \"\"\n",
    "\n",
    "file = open('/Users/megan/work/ml-study/text-mining-example/covid19/docs.txt', 'r')\n",
    "lines = file.readlines()[0:5]\n",
    "\n",
    "for line in lines:\n",
    "    text += line.strip()\n",
    "\n",
    "print(text)"
   ],
   "metadata": {
    "collapsed": false,
    "pycharm": {
     "name": "#%%\n"
    }
   }
  },
  {
   "cell_type": "code",
   "execution_count": 68,
   "outputs": [
    {
     "name": "stdout",
     "output_type": "stream",
     "text": [
      "0.08641318107468375 1\n",
      "[initiation di rna replication wild type leader]\n",
      "0.0809209027940595 1\n",
      "[rna molecules leader]\n",
      "0.08006492392426426 1\n",
      "[rna replication test hypothesis]\n",
      "0.076783555087456 1\n",
      "[natural mouse hepatitis coronavirus di rnas di rna bovine coronavirus]\n",
      "0.0761753149359331 1\n",
      "[genome replication]\n",
      "0.07294000568981611 1\n",
      "[polymerase gene replication packagingmechanism genome transcription]\n",
      "0.07032408708048372 1\n",
      "[genome transcription critical stage life cycle virus process viral genetic information]\n",
      "0.06988864204467865 1\n",
      "[synthetic rna transcripts]\n",
      "0.06808785862768796 1\n",
      "[subsequent replication]\n",
      "0.06676039914849197 1\n",
      "[viral genome transcription]\n",
      "0.06545486451774161 1\n",
      "[release messenger rna transcripts]\n",
      "0.06529602837103311 1\n",
      "[cyclodextrin glycyrrhetinic acid conjugates potential anti influenza virus agents]\n",
      "0.06374629072284257 1\n",
      "[new virus]\n",
      "0.06342979164604863 1\n",
      "[similar virus]\n",
      "0.06314378934803085 2\n",
      "[virus, virus]\n",
      "0.06302701081194946 1\n",
      "[leader subgenomic mrnas]\n",
      "0.062470606339517 1\n",
      "[packaged indicating insufficiency leader]\n",
      "0.06236976766261799 1\n",
      "[helper virus]\n",
      "0.062289094745040775 1\n",
      "[minimal structural requirement leader]\n",
      "0.06120326986635011 1\n",
      "[mechanism genome transcription]\n",
      "0.05553961897057744 1\n",
      "[coronavirus moves easy overinterpret science aaas]\n",
      "0.05516642739078813 1\n",
      "[cd ga]\n",
      "0.05461246565785654 1\n",
      "[host cell protein]\n",
      "0.0539503420245371 1\n",
      "[necessary part cis acting signal di rna replication]\n",
      "0.05366860762722278 1\n",
      "[evolving sequences]\n",
      "0.0535576497624325 1\n",
      "[significant cytotoxicity mdck cells conjugates]\n",
      "0.05310587314730805 1\n",
      "[early sequences]\n",
      "0.05285922247302824 1\n",
      "[moiety conjugates]\n",
      "0.05283673483227705 1\n",
      "[sequence elements]\n",
      "0.05269762452633641 1\n",
      "[dsrna template one striking observations genome transcription dsrna viruses process]\n",
      "0.05258751487069441 1\n",
      "[mouse hepatitis coronavirus results]\n",
      "0.05256662100342851 1\n",
      "[machinery production viral proteins]\n",
      "0.050878221068416905 1\n",
      "[viral capsid function]\n",
      "0.0503716099086694 1\n",
      "[wuhan novel coronavirus 2019ncov doaj doaj online directory indexes]\n",
      "0.050240758182909385 1\n",
      "[cyclodextrin cd ga conjugates]\n",
      "0.050125455033904434 1\n",
      "[parent compound ga exception]\n",
      "0.04982866703263905 1\n",
      "[genome sufficient claim link munich italy drosten tweetedwuhan novel coronavirus 2019ncov information open access article]\n",
      "0.049353890953723036 1\n",
      "[face particular challenge host cells]\n",
      "0.047008282344597085 1\n",
      "[broad spectrum antiviral activities]\n",
      "0.04651569324054731 1\n",
      "[efficiency process]\n",
      "0.04650905719144508 2\n",
      "[transcription, transcription]\n",
      "0.046180796316816076 1\n",
      "[ga major constituent herb glycyrrhiza glabra]\n",
      "0.045549649690624534 1\n",
      "[antiviral activity]\n",
      "0.045514870877714206 2\n",
      "[dsrna, dsrna]\n",
      "0.045257059292963385 1\n",
      "[replicating ability surprisingly stem loop disrupted base substitutions replication]\n",
      "0.04411468376822995 8\n",
      "[ga, ga, ga, ga, ga, ga, ga, ga]\n",
      "0.04282738155577664 1\n",
      "[bavaria state public health]\n",
      "0.042602084731750305 1\n",
      "[double stranded rna dsrna]\n",
      "0.0415909754990201 1\n",
      "[patient munich capital bavaria]\n",
      "0.041049671172972875 1\n",
      "[defective interfering di rna differing]\n",
      "0.04101371720570415 1\n",
      "[tiny fraction cases]\n",
      "0.04018441686934 1\n",
      "[easy overinterpret drosten]\n",
      "0.03955667299915743 1\n",
      "[intraleader stem loop]\n",
      "0.03919528679437333 1\n",
      "[preliminary results]\n",
      "0.03909471108812481 1\n",
      "[severe acute respiratory syndrome coronavirus 2 sars]\n",
      "0.03855293393848153 1\n",
      "[virologist charité university hospital berlin]\n",
      "0.03844016422929351 1\n",
      "[cd]\n",
      "0.03761219664517054 1\n",
      "[5 signal replication]\n",
      "0.03729288143531799 1\n",
      "[charité university hospital berlin]\n",
      "0.03715127914837066 1\n",
      "[removal terminal bases]\n",
      "0.0368534921567221 1\n",
      "[current study]\n",
      "0.03648866479766394 1\n",
      "[proteins]\n",
      "0.036102131465683016 1\n",
      "[mmediately christian drosten published genetic sequence novel coronavirus]\n",
      "0.035735221607442594 1\n",
      "[idea italian outbreak]\n",
      "0.0353861899670518 1\n",
      "[ga covalently coupled primary face β cd]\n",
      "0.03520974279341042 1\n",
      "[350 genome sequences]\n",
      "0.03469792719316346 1\n",
      "[varying lengths linker]\n",
      "0.03468965550543984 1\n",
      "[independent routes countries]\n",
      "0.034594525379869845 1\n",
      "[discontinuous downstream regions]\n",
      "0.034108629405592054 1\n",
      "[quarantining contacts]\n",
      "0.03347289021583114 1\n",
      "[mutations]\n",
      "0.03337204786607131 1\n",
      "[minimally impaired leader]\n",
      "0.032702831346630296 1\n",
      "[bavaria]\n",
      "0.03241479091830265 1\n",
      "[lower hydrophobicity alogp]\n",
      "0.03195636151074651 2\n",
      "[italy, italy]\n",
      "0.03192924159435569 1\n",
      "[modifications findings]\n",
      "0.03165580770125241 1\n",
      "[hold clues]\n",
      "0.03132319193269955 1\n",
      "[german patient]\n",
      "0.0311943878937864 1\n",
      "[many derivatives]\n",
      "0.031191658514894728 1\n",
      "[munich capital]\n",
      "0.030921486027597457 1\n",
      "[mouse]\n",
      "0.03088997780448196 1\n",
      "[telltale differences]\n",
      "0.030654124548152435 1\n",
      "[china drosten]\n",
      "0.030253486676129406 1\n",
      "[online platform]\n",
      "0.03019919682239116 1\n",
      "[twitter issue]\n",
      "0.03005836341930067 1\n",
      "[cytopathic effect]\n",
      "0.030029251143415227 1\n",
      "[433 nt continuous 5 proximal genomic sequence leader n open reading frame replicate]\n",
      "0.029839291191083667 1\n",
      "[mrna mrna 7 bovine coronavirus]\n",
      "0.0297542842264465 1\n",
      "[one bavaria state public health officials]\n",
      "0.02934255481336349 1\n",
      "[containing n mrna mrna 7]\n",
      "0.028694882119342232 2\n",
      "[reporter, reporter]\n",
      "0.025548482903654086 1\n",
      "[68 nt tested replication]\n",
      "0.02526376498448274 1\n",
      "[chinese]\n",
      "0.024392830331164485 1\n",
      "[components]\n",
      "0.024280556713877875 1\n",
      "[transcriptionally competent particle]\n",
      "0.024091851316988083 1\n",
      "[copper]\n",
      "0.024081775225046564 1\n",
      "[tweetedwuhan]\n",
      "0.02393813140648419 1\n",
      "[italian]\n",
      "0.023911561076446486 1\n",
      "[munich]\n",
      "0.023582471408601192 1\n",
      "[world]\n",
      "0.023530429113702064 1\n",
      "[german]\n",
      "0.022967748970643964 1\n",
      "[china]\n",
      "0.022960345510538452 1\n",
      "[messenger]\n",
      "0.022307600363862017 1\n",
      "[contrast]\n",
      "0.022255719867328973 1\n",
      "[christian]\n",
      "0.022154189220734005 1\n",
      "[synthesis]\n",
      "0.021946676294799242 1\n",
      "[azide alkyl cycloaddition reaction]\n",
      "0.021647406863411493 1\n",
      "[mrna]\n",
      "0.021319980950824362 1\n",
      "[35 conjugates]\n",
      "0.021319980950824362 1\n",
      "[six conjugates]\n",
      "0.02123076722223086 1\n",
      "[14 confirmed cases]\n",
      "0.021179070800868616 1\n",
      "[33 h1n1 virus]\n",
      "0.020255710578602863 1\n",
      "[fully intact observation]\n",
      "0.015460465741331923 2\n",
      "[three mutations, three mutations]\n",
      "0.011784201616613386 1\n",
      "[3 c 30 ga]\n",
      "0.011387774878428373 1\n",
      "[1 2 3 triazole moiety]\n",
      "0.010254609170661788 2\n",
      "[28 february, 28 february]\n",
      "0.008026166747509018 1\n",
      "[1 month earlier]\n",
      "0.007892412223971145 1\n",
      "[precise 5 terminus 3 poly]\n",
      "0.0 1\n",
      "[1 2 3]\n",
      "0.0 1\n",
      "[14]\n",
      "0.0 1\n",
      "[18]\n",
      "0.0 1\n",
      "[19]\n",
      "0.0 2\n",
      "[2, 2]\n",
      "0.0 2\n",
      "[3, 3]\n",
      "0.0 1\n",
      "[30]\n",
      "0.0 1\n",
      "[33]\n",
      "0.0 1\n",
      "[35]\n",
      "0.0 1\n",
      "[350]\n",
      "0.0 1\n",
      "[433]\n",
      "0.0 4\n",
      "[5, 5, 5, 5]\n",
      "0.0 1\n",
      "[65]\n",
      "0.0 1\n",
      "[68]\n",
      "0.0 1\n",
      "[one]\n",
      "0.0 1\n",
      "[six]\n",
      "0.0 2\n",
      "[three, three]\n",
      "['initiation di rna replication wild type leader', 'rna molecules leader', 'rna replication test hypothesis', 'natural mouse hepatitis coronavirus di rnas di rna bovine coronavirus', 'genome replication']\n",
      "[0.08641318107468375, 0.0809209027940595, 0.08006492392426426, 0.076783555087456, 0.0761753149359331]\n",
      "136\n",
      "136\n"
     ]
    }
   ],
   "source": [
    "import spacy\n",
    "import pytextrank\n",
    "\n",
    "# text = (\"When Sebastian Thrun started working on self-driving cars at \"\n",
    "#         \"Google in 2007, few people outside of the company took him \"\n",
    "#         \"seriously. “I can tell you very senior CEOs of major American \"\n",
    "#         \"car companies would shake my hand and turn away because I wasn’t \"\n",
    "#         \"worth talking to,” said Thrun, in an interview with Recode earlier \"\n",
    "#         \"this week.\")\n",
    "\n",
    "nlp = spacy.load('en_core_web_sm')\n",
    "doc = nlp(text)\n",
    "\n",
    "# for token in doc[:2]:\n",
    "#     print(token.text, token.lemma_, token.pos_, token.tag_)\n",
    "# mutations mutation NOUN NNS\n",
    "# reveal reveal VERB VBP\n",
    "\n",
    "# add PyTextRank to the spaCy pipeline\n",
    "nlp.add_pipe(\"textrank\")\n",
    "doc = nlp(text)\n",
    "\n",
    "keyword_list = []\n",
    "ranks_list = []\n",
    "for phrase in doc._.phrases:\n",
    "    # print(phrase.text)\n",
    "    keyword_list.append(phrase.text)\n",
    "    print(phrase.rank, phrase.count)\n",
    "    ranks_list.append(phrase.rank)\n",
    "    print(phrase.chunks)\n",
    "\n",
    "print(keyword_list[:5])\n",
    "print(ranks_list[:5])\n",
    "print(len(keyword_list))\n",
    "print(len(ranks_list))"
   ],
   "metadata": {
    "collapsed": false,
    "pycharm": {
     "name": "#%%\n"
    }
   }
  },
  {
   "cell_type": "code",
   "execution_count": 69,
   "outputs": [
    {
     "name": "stdout",
     "output_type": "stream",
     "text": [
      "['tok2vec', 'tagger', 'parser', 'attribute_ruler', 'lemmatizer', 'ner', 'textrank']\n"
     ]
    }
   ],
   "source": [
    "print(nlp.pipe_names)"
   ],
   "metadata": {
    "collapsed": false,
    "pycharm": {
     "name": "#%%\n"
    }
   }
  },
  {
   "cell_type": "code",
   "execution_count": 60,
   "outputs": [
    {
     "name": "stderr",
     "output_type": "stream",
     "text": [
      "/Users/megan/.pyenv/versions/anaconda3-2020.02/lib/python3.7/site-packages/spacy/displacy/__init__.py:103: UserWarning: [W011] It looks like you're calling displacy.serve from within a Jupyter notebook or a similar environment. This likely means you're already running a local web server, so there's no need to make displaCy start another one. Instead, you should be able to replace displacy.serve with displacy.render to show the visualization.\n",
      "  warnings.warn(Warnings.W011)\n"
     ]
    },
    {
     "data": {
      "text/plain": "<IPython.core.display.HTML object>",
      "text/html": "<span class=\"tex2jax_ignore\"><!DOCTYPE html>\n<html lang=\"en\">\n    <head>\n        <title>displaCy</title>\n    </head>\n\n    <body style=\"font-size: 16px; font-family: -apple-system, BlinkMacSystemFont, 'Segoe UI', Helvetica, Arial, sans-serif, 'Apple Color Emoji', 'Segoe UI Emoji', 'Segoe UI Symbol'; padding: 4rem 2rem; direction: ltr\">\n<figure style=\"margin-bottom: 6rem\">\n<div class=\"entities\" style=\"line-height: 2.5; direction: ltr\">mutations reveal coronavirus moves easy overinterpret science aaas mmediately \n<mark class=\"entity\" style=\"background: #c887fb; padding: 0.45em 0.6em; margin: 0 0.25em; line-height: 1; border-radius: 0.35em;\">\n    christian\n    <span style=\"font-size: 0.8em; font-weight: bold; line-height: 1; border-radius: 0.35em; vertical-align: middle; margin-left: 0.5rem\">NORP</span>\n</mark>\n drosten published genetic sequence novel coronavirus online \n<mark class=\"entity\" style=\"background: #bfe1d9; padding: 0.45em 0.6em; margin: 0 0.25em; line-height: 1; border-radius: 0.35em;\">\n    28 february\n    <span style=\"font-size: 0.8em; font-weight: bold; line-height: 1; border-radius: 0.35em; vertical-align: middle; margin-left: 0.5rem\">DATE</span>\n</mark>\n took twitter issue warning virus raced around world \n<mark class=\"entity\" style=\"background: #e4e7d2; padding: 0.45em 0.6em; margin: 0 0.25em; line-height: 1; border-radius: 0.35em;\">\n    350\n    <span style=\"font-size: 0.8em; font-weight: bold; line-height: 1; border-radius: 0.35em; vertical-align: middle; margin-left: 0.5rem\">CARDINAL</span>\n</mark>\n genome sequences shared online platform gisaid hold clues new virus named severe acute respiratory syndrome coronavirus \n<mark class=\"entity\" style=\"background: #e4e7d2; padding: 0.45em 0.6em; margin: 0 0.25em; line-height: 1; border-radius: 0.35em;\">\n    2\n    <span style=\"font-size: 0.8em; font-weight: bold; line-height: 1; border-radius: 0.35em; vertical-align: middle; margin-left: 0.5rem\">CARDINAL</span>\n</mark>\n sars cov \n<mark class=\"entity\" style=\"background: #e4e7d2; padding: 0.45em 0.6em; margin: 0 0.25em; line-height: 1; border-radius: 0.35em;\">\n    2\n    <span style=\"font-size: 0.8em; font-weight: bold; line-height: 1; border-radius: 0.35em; vertical-align: middle; margin-left: 0.5rem\">CARDINAL</span>\n</mark>\n spreading evolving sequences represent tiny fraction cases show telltale differences easy overinterpret drosten realized virologist \n<mark class=\"entity\" style=\"background: #7aecec; padding: 0.45em 0.6em; margin: 0 0.25em; line-height: 1; border-radius: 0.35em;\">\n    charité university hospital berlin\n    <span style=\"font-size: 0.8em; font-weight: bold; line-height: 1; border-radius: 0.35em; vertical-align: middle; margin-left: 0.5rem\">ORG</span>\n</mark>\n sequenced virus \n<mark class=\"entity\" style=\"background: #c887fb; padding: 0.45em 0.6em; margin: 0 0.25em; line-height: 1; border-radius: 0.35em;\">\n    german\n    <span style=\"font-size: 0.8em; font-weight: bold; line-height: 1; border-radius: 0.35em; vertical-align: middle; margin-left: 0.5rem\">NORP</span>\n</mark>\n patient infected covid \n<mark class=\"entity\" style=\"background: #e4e7d2; padding: 0.45em 0.6em; margin: 0 0.25em; line-height: 1; border-radius: 0.35em;\">\n    19\n    <span style=\"font-size: 0.8em; font-weight: bold; line-height: 1; border-radius: 0.35em; vertical-align: middle; margin-left: 0.5rem\">CARDINAL</span>\n</mark>\n \n<mark class=\"entity\" style=\"background: #feca74; padding: 0.45em 0.6em; margin: 0 0.25em; line-height: 1; border-radius: 0.35em;\">\n    italy\n    <span style=\"font-size: 0.8em; font-weight: bold; line-height: 1; border-radius: 0.35em; vertical-align: middle; margin-left: 0.5rem\">GPE</span>\n</mark>\n genome looked similar virus found patient \n<mark class=\"entity\" style=\"background: #7aecec; padding: 0.45em 0.6em; margin: 0 0.25em; line-height: 1; border-radius: 0.35em;\">\n    munich capital\n    <span style=\"font-size: 0.8em; font-weight: bold; line-height: 1; border-radius: 0.35em; vertical-align: middle; margin-left: 0.5rem\">ORG</span>\n</mark>\n \n<mark class=\"entity\" style=\"background: #feca74; padding: 0.45em 0.6em; margin: 0 0.25em; line-height: 1; border-radius: 0.35em;\">\n    bavaria\n    <span style=\"font-size: 0.8em; font-weight: bold; line-height: 1; border-radius: 0.35em; vertical-align: middle; margin-left: 0.5rem\">GPE</span>\n</mark>\n \n<mark class=\"entity\" style=\"background: #bfe1d9; padding: 0.45em 0.6em; margin: 0 0.25em; line-height: 1; border-radius: 0.35em;\">\n    1 month earlier\n    <span style=\"font-size: 0.8em; font-weight: bold; line-height: 1; border-radius: 0.35em; vertical-align: middle; margin-left: 0.5rem\">DATE</span>\n</mark>\n shared \n<mark class=\"entity\" style=\"background: #e4e7d2; padding: 0.45em 0.6em; margin: 0 0.25em; line-height: 1; border-radius: 0.35em;\">\n    three\n    <span style=\"font-size: 0.8em; font-weight: bold; line-height: 1; border-radius: 0.35em; vertical-align: middle; margin-left: 0.5rem\">CARDINAL</span>\n</mark>\n mutations seen early sequences \n<mark class=\"entity\" style=\"background: #feca74; padding: 0.45em 0.6em; margin: 0 0.25em; line-height: 1; border-radius: 0.35em;\">\n    china\n    <span style=\"font-size: 0.8em; font-weight: bold; line-height: 1; border-radius: 0.35em; vertical-align: middle; margin-left: 0.5rem\">GPE</span>\n</mark>\n drosten realized could give rise idea \n<mark class=\"entity\" style=\"background: #c887fb; padding: 0.45em 0.6em; margin: 0 0.25em; line-height: 1; border-radius: 0.35em;\">\n    italian\n    <span style=\"font-size: 0.8em; font-weight: bold; line-height: 1; border-radius: 0.35em; vertical-align: middle; margin-left: 0.5rem\">NORP</span>\n</mark>\n outbreak seeded \n<mark class=\"entity\" style=\"background: #e4e7d2; padding: 0.45em 0.6em; margin: 0 0.25em; line-height: 1; border-radius: 0.35em;\">\n    one\n    <span style=\"font-size: 0.8em; font-weight: bold; line-height: 1; border-radius: 0.35em; vertical-align: middle; margin-left: 0.5rem\">CARDINAL</span>\n</mark>\n \n<mark class=\"entity\" style=\"background: #7aecec; padding: 0.45em 0.6em; margin: 0 0.25em; line-height: 1; border-radius: 0.35em;\">\n    bavaria state public health\n    <span style=\"font-size: 0.8em; font-weight: bold; line-height: 1; border-radius: 0.35em; vertical-align: middle; margin-left: 0.5rem\">ORG</span>\n</mark>\n officials said quashed tracing quarantining contacts \n<mark class=\"entity\" style=\"background: #e4e7d2; padding: 0.45em 0.6em; margin: 0 0.25em; line-height: 1; border-radius: 0.35em;\">\n    14\n    <span style=\"font-size: 0.8em; font-weight: bold; line-height: 1; border-radius: 0.35em; vertical-align: middle; margin-left: 0.5rem\">CARDINAL</span>\n</mark>\n confirmed cases thought likely \n<mark class=\"entity\" style=\"background: #c887fb; padding: 0.45em 0.6em; margin: 0 0.25em; line-height: 1; border-radius: 0.35em;\">\n    chinese\n    <span style=\"font-size: 0.8em; font-weight: bold; line-height: 1; border-radius: 0.35em; vertical-align: middle; margin-left: 0.5rem\">NORP</span>\n</mark>\n variant carrying \n<mark class=\"entity\" style=\"background: #e4e7d2; padding: 0.45em 0.6em; margin: 0 0.25em; line-height: 1; border-radius: 0.35em;\">\n    three\n    <span style=\"font-size: 0.8em; font-weight: bold; line-height: 1; border-radius: 0.35em; vertical-align: middle; margin-left: 0.5rem\">CARDINAL</span>\n</mark>\n mutations taken independent routes countries newly sequenced genome sufficient claim link \n<mark class=\"entity\" style=\"background: #feca74; padding: 0.45em 0.6em; margin: 0 0.25em; line-height: 1; border-radius: 0.35em;\">\n    munich\n    <span style=\"font-size: 0.8em; font-weight: bold; line-height: 1; border-radius: 0.35em; vertical-align: middle; margin-left: 0.5rem\">GPE</span>\n</mark>\n \n<mark class=\"entity\" style=\"background: #feca74; padding: 0.45em 0.6em; margin: 0 0.25em; line-height: 1; border-radius: 0.35em;\">\n    italy\n    <span style=\"font-size: 0.8em; font-weight: bold; line-height: 1; border-radius: 0.35em; vertical-align: middle; margin-left: 0.5rem\">GPE</span>\n</mark>\n drosten \n<mark class=\"entity\" style=\"background: #e4e7d2; padding: 0.45em 0.6em; margin: 0 0.25em; line-height: 1; border-radius: 0.35em;\">\n    tweetedwuhan\n    <span style=\"font-size: 0.8em; font-weight: bold; line-height: 1; border-radius: 0.35em; vertical-align: middle; margin-left: 0.5rem\">CARDINAL</span>\n</mark>\n novel coronavirus 2019ncov information open access article wuhan novel coronavirus 2019ncov doaj doaj online directory indexes provides access quality open access peer reviewed journalssynthesis structure activity relationship studies water soluble β cyclodextrin glycyrrhetinic acid conjugates potential anti influenza virus agents abstract glycyrrhetinic acid \n<mark class=\"entity\" style=\"background: #7aecec; padding: 0.45em 0.6em; margin: 0 0.25em; line-height: 1; border-radius: 0.35em;\">\n    ga\n    <span style=\"font-size: 0.8em; font-weight: bold; line-height: 1; border-radius: 0.35em; vertical-align: middle; margin-left: 0.5rem\">ORG</span>\n</mark>\n major constituent herb glycyrrhiza glabra many derivatives demonstrate broad spectrum antiviral activities current study \n<mark class=\"entity\" style=\"background: #e4e7d2; padding: 0.45em 0.6em; margin: 0 0.25em; line-height: 1; border-radius: 0.35em;\">\n    18\n    <span style=\"font-size: 0.8em; font-weight: bold; line-height: 1; border-radius: 0.35em; vertical-align: middle; margin-left: 0.5rem\">CARDINAL</span>\n</mark>\n water soluble β cyclodextrin cd \n<mark class=\"entity\" style=\"background: #7aecec; padding: 0.45em 0.6em; margin: 0 0.25em; line-height: 1; border-radius: 0.35em;\">\n    ga\n    <span style=\"font-size: 0.8em; font-weight: bold; line-height: 1; border-radius: 0.35em; vertical-align: middle; margin-left: 0.5rem\">ORG</span>\n</mark>\n conjugates \n<mark class=\"entity\" style=\"background: #7aecec; padding: 0.45em 0.6em; margin: 0 0.25em; line-height: 1; border-radius: 0.35em;\">\n    ga\n    <span style=\"font-size: 0.8em; font-weight: bold; line-height: 1; border-radius: 0.35em; vertical-align: middle; margin-left: 0.5rem\">ORG</span>\n</mark>\n covalently coupled primary face β cd using \n<mark class=\"entity\" style=\"background: #e4e7d2; padding: 0.45em 0.6em; margin: 0 0.25em; line-height: 1; border-radius: 0.35em;\">\n    1 2 3\n    <span style=\"font-size: 0.8em; font-weight: bold; line-height: 1; border-radius: 0.35em; vertical-align: middle; margin-left: 0.5rem\">CARDINAL</span>\n</mark>\n triazole moiety along varying lengths linker synthesized via copper catalyzed azide alkyl cycloaddition reaction benefited attached β cd moiety conjugates showed lower hydrophobicity alogp compared parent compound \n<mark class=\"entity\" style=\"background: #7aecec; padding: 0.45em 0.6em; margin: 0 0.25em; line-height: 1; border-radius: 0.35em;\">\n    ga\n    <span style=\"font-size: 0.8em; font-weight: bold; line-height: 1; border-radius: 0.35em; vertical-align: middle; margin-left: 0.5rem\">ORG</span>\n</mark>\n exception per methylated β cd \n<mark class=\"entity\" style=\"background: #7aecec; padding: 0.45em 0.6em; margin: 0 0.25em; line-height: 1; border-radius: 0.35em;\">\n    ga\n    <span style=\"font-size: 0.8em; font-weight: bold; line-height: 1; border-radius: 0.35em; vertical-align: middle; margin-left: 0.5rem\">ORG</span>\n</mark>\n conjugate \n<mark class=\"entity\" style=\"background: #e4e7d2; padding: 0.45em 0.6em; margin: 0 0.25em; line-height: 1; border-radius: 0.35em;\">\n    35\n    <span style=\"font-size: 0.8em; font-weight: bold; line-height: 1; border-radius: 0.35em; vertical-align: middle; margin-left: 0.5rem\">CARDINAL</span>\n</mark>\n conjugates showed significant cytotoxicity mdck cells conjugates screened wsn \n<mark class=\"entity\" style=\"background: #e4e7d2; padding: 0.45em 0.6em; margin: 0 0.25em; line-height: 1; border-radius: 0.35em;\">\n    33\n    <span style=\"font-size: 0.8em; font-weight: bold; line-height: 1; border-radius: 0.35em; vertical-align: middle; margin-left: 0.5rem\">CARDINAL</span>\n</mark>\n h1n1 virus using cytopathic effect assay preliminary results indicated \n<mark class=\"entity\" style=\"background: #e4e7d2; padding: 0.45em 0.6em; margin: 0 0.25em; line-height: 1; border-radius: 0.35em;\">\n    six\n    <span style=\"font-size: 0.8em; font-weight: bold; line-height: 1; border-radius: 0.35em; vertical-align: middle; margin-left: 0.5rem\">CARDINAL</span>\n</mark>\n conjugates showed promising antiviral activity c \n<mark class=\"entity\" style=\"background: #e4e7d2; padding: 0.45em 0.6em; margin: 0 0.25em; line-height: 1; border-radius: 0.35em;\">\n    3\n    <span style=\"font-size: 0.8em; font-weight: bold; line-height: 1; border-radius: 0.35em; vertical-align: middle; margin-left: 0.5rem\">CARDINAL</span>\n</mark>\n c \n<mark class=\"entity\" style=\"background: #e4e7d2; padding: 0.45em 0.6em; margin: 0 0.25em; line-height: 1; border-radius: 0.35em;\">\n    30\n    <span style=\"font-size: 0.8em; font-weight: bold; line-height: 1; border-radius: 0.35em; vertical-align: middle; margin-left: 0.5rem\">CARDINAL</span>\n</mark>\n \n<mark class=\"entity\" style=\"background: #7aecec; padding: 0.45em 0.6em; margin: 0 0.25em; line-height: 1; border-radius: 0.35em;\">\n    ga\n    <span style=\"font-size: 0.8em; font-weight: bold; line-height: 1; border-radius: 0.35em; vertical-align: middle; margin-left: 0.5rem\">ORG</span>\n</mark>\n could tolerate modifications findings suggested \n<mark class=\"entity\" style=\"background: #7aecec; padding: 0.45em 0.6em; margin: 0 0.25em; line-height: 1; border-radius: 0.35em;\">\n    ga\n    <span style=\"font-size: 0.8em; font-weight: bold; line-height: 1; border-radius: 0.35em; vertical-align: middle; margin-left: 0.5rem\">ORG</span>\n</mark>\n could used lead compound development potential anti influenza virus agentscis acting function coronavirus leader defective interfering rna replication test hypothesis \n<mark class=\"entity\" style=\"background: #e4e7d2; padding: 0.45em 0.6em; margin: 0 0.25em; line-height: 1; border-radius: 0.35em;\">\n    65\n    <span style=\"font-size: 0.8em; font-weight: bold; line-height: 1; border-radius: 0.35em; vertical-align: middle; margin-left: 0.5rem\">CARDINAL</span>\n</mark>\n nucleotide nt leader subgenomic mrnas suffices \n<mark class=\"entity\" style=\"background: #e4e7d2; padding: 0.45em 0.6em; margin: 0 0.25em; line-height: 1; border-radius: 0.35em;\">\n    5\n    <span style=\"font-size: 0.8em; font-weight: bold; line-height: 1; border-radius: 0.35em; vertical-align: middle; margin-left: 0.5rem\">CARDINAL</span>\n</mark>\n terminal cis acting signal rna replication corollary notion coronavirus mrnas behave replicons synthetic rna transcripts cloned reporter \n<mark class=\"entity\" style=\"background: #aa9cfc; padding: 0.45em 0.6em; margin: 0 0.25em; line-height: 1; border-radius: 0.35em;\">\n    containing n mrna mrna 7\n    <span style=\"font-size: 0.8em; font-weight: bold; line-height: 1; border-radius: 0.35em; vertical-align: middle; margin-left: 0.5rem\">PERSON</span>\n</mark>\n bovine coronavirus precise \n<mark class=\"entity\" style=\"background: #e4e7d2; padding: 0.45em 0.6em; margin: 0 0.25em; line-height: 1; border-radius: 0.35em;\">\n    5\n    <span style=\"font-size: 0.8em; font-weight: bold; line-height: 1; border-radius: 0.35em; vertical-align: middle; margin-left: 0.5rem\">CARDINAL</span>\n</mark>\n terminus \n<mark class=\"entity\" style=\"background: #e4e7d2; padding: 0.45em 0.6em; margin: 0 0.25em; line-height: 1; border-radius: 0.35em;\">\n    3\n    <span style=\"font-size: 0.8em; font-weight: bold; line-height: 1; border-radius: 0.35em; vertical-align: middle; margin-left: 0.5rem\">CARDINAL</span>\n</mark>\n poly \n<mark class=\"entity\" style=\"background: #e4e7d2; padding: 0.45em 0.6em; margin: 0 0.25em; line-height: 1; border-radius: 0.35em;\">\n    68\n    <span style=\"font-size: 0.8em; font-weight: bold; line-height: 1; border-radius: 0.35em; vertical-align: middle; margin-left: 0.5rem\">CARDINAL</span>\n</mark>\n nt tested replication transfected helper virus infected cells replication observed synthetic transcripts cloned reporter containing defective interfering di rna differing n mrna construct \n<mark class=\"entity\" style=\"background: #e4e7d2; padding: 0.45em 0.6em; margin: 0 0.25em; line-height: 1; border-radius: 0.35em;\">\n    433\n    <span style=\"font-size: 0.8em; font-weight: bold; line-height: 1; border-radius: 0.35em; vertical-align: middle; margin-left: 0.5rem\">CARDINAL</span>\n</mark>\n nt continuous \n<mark class=\"entity\" style=\"background: #e4e7d2; padding: 0.45em 0.6em; margin: 0 0.25em; line-height: 1; border-radius: 0.35em;\">\n    5\n    <span style=\"font-size: 0.8em; font-weight: bold; line-height: 1; border-radius: 0.35em; vertical-align: middle; margin-left: 0.5rem\">CARDINAL</span>\n</mark>\n proximal genomic sequence leader n open reading frame replicate become packaged indicating insufficiency leader alone \n<mark class=\"entity\" style=\"background: #e4e7d2; padding: 0.45em 0.6em; margin: 0 0.25em; line-height: 1; border-radius: 0.35em;\">\n    5\n    <span style=\"font-size: 0.8em; font-weight: bold; line-height: 1; border-radius: 0.35em; vertical-align: middle; margin-left: 0.5rem\">CARDINAL</span>\n</mark>\n signal replication transfected rna molecules leader shown necessary part cis acting signal di rna replication however since removal terminal bases destroyed predicted intraleader stem loop also destroyed replicating ability surprisingly stem loop disrupted base substitutions replication appeared minimally impaired leader found rapidly reverted wild type di rna replication phenomenon reminiscent high frequency leader switching \n<mark class=\"entity\" style=\"background: #aa9cfc; padding: 0.45em 0.6em; margin: 0 0.25em; line-height: 1; border-radius: 0.35em;\">\n    mouse hepatitis coronavirus results\n    <span style=\"font-size: 0.8em; font-weight: bold; line-height: 1; border-radius: 0.35em; vertical-align: middle; margin-left: 0.5rem\">PERSON</span>\n</mark>\n suggest minimal structural requirement leader fulfilled initiation di rna replication wild type leader strongly preferred subsequent replication also demonstrate contrast reported natural mouse hepatitis coronavirus di rnas di rna bovine coronavirus require sequence elements originating discontinuous downstream regions within polymerase gene replication packagingmechanism genome transcription segmented dsrna viruses publisher summary chapter discusses mechanism genome transcription segmented double stranded rna dsrna viruses genome \n<mark class=\"entity\" style=\"background: #e4e7d2; padding: 0.45em 0.6em; margin: 0 0.25em; line-height: 1; border-radius: 0.35em;\">\n    transcription\n    <span style=\"font-size: 0.8em; font-weight: bold; line-height: 1; border-radius: 0.35em; vertical-align: middle; margin-left: 0.5rem\">CARDINAL</span>\n</mark>\n critical stage life cycle virus process viral genetic information presented host cell protein synthesis machinery production viral proteins needed genome replication progeny virion assembly viruses dsrna genomes face particular challenge host cells produce proteins transcribe dsrna template one striking observations genome \n<mark class=\"entity\" style=\"background: #e4e7d2; padding: 0.45em 0.6em; margin: 0 0.25em; line-height: 1; border-radius: 0.35em;\">\n    transcription\n    <span style=\"font-size: 0.8em; font-weight: bold; line-height: 1; border-radius: 0.35em; vertical-align: middle; margin-left: 0.5rem\">CARDINAL</span>\n</mark>\n dsrna viruses process occurs efficiently transcriptionally competent particle fully intact observation suggests components transcriptionally competent particle including viral genome transcription enzymes viral capsid function together produce release \n<mark class=\"entity\" style=\"background: #aa9cfc; padding: 0.45em 0.6em; margin: 0 0.25em; line-height: 1; border-radius: 0.35em;\">\n    messenger\n    <span style=\"font-size: 0.8em; font-weight: bold; line-height: 1; border-radius: 0.35em; vertical-align: middle; margin-left: 0.5rem\">PERSON</span>\n</mark>\n rna transcripts component specific critical role play promoting efficiency process</div>\n</figure>\n</body>\n</html></span>"
     },
     "metadata": {},
     "output_type": "display_data"
    },
    {
     "ename": "OSError",
     "evalue": "[Errno 48] Address already in use",
     "output_type": "error",
     "traceback": [
      "\u001B[0;31m---------------------------------------------------------------------------\u001B[0m",
      "\u001B[0;31mOSError\u001B[0m                                   Traceback (most recent call last)",
      "\u001B[0;32m<ipython-input-60-2f7989f23450>\u001B[0m in \u001B[0;36m<module>\u001B[0;34m\u001B[0m\n\u001B[1;32m      3\u001B[0m \u001B[0;34m\u001B[0m\u001B[0m\n\u001B[1;32m      4\u001B[0m \u001B[0;31m# displacy.serve(doc, style=\"dep\")\u001B[0m\u001B[0;34m\u001B[0m\u001B[0;34m\u001B[0m\u001B[0;34m\u001B[0m\u001B[0m\n\u001B[0;32m----> 5\u001B[0;31m \u001B[0mdisplacy\u001B[0m\u001B[0;34m.\u001B[0m\u001B[0mserve\u001B[0m\u001B[0;34m(\u001B[0m\u001B[0mdoc\u001B[0m\u001B[0;34m,\u001B[0m \u001B[0mstyle\u001B[0m\u001B[0;34m=\u001B[0m\u001B[0;34m\"ent\"\u001B[0m\u001B[0;34m)\u001B[0m\u001B[0;34m\u001B[0m\u001B[0;34m\u001B[0m\u001B[0m\n\u001B[0m",
      "\u001B[0;32m~/.pyenv/versions/anaconda3-2020.02/lib/python3.7/site-packages/spacy/displacy/__init__.py\u001B[0m in \u001B[0;36mserve\u001B[0;34m(docs, style, page, minify, options, manual, port, host)\u001B[0m\n\u001B[1;32m    103\u001B[0m         \u001B[0mwarnings\u001B[0m\u001B[0;34m.\u001B[0m\u001B[0mwarn\u001B[0m\u001B[0;34m(\u001B[0m\u001B[0mWarnings\u001B[0m\u001B[0;34m.\u001B[0m\u001B[0mW011\u001B[0m\u001B[0;34m)\u001B[0m\u001B[0;34m\u001B[0m\u001B[0;34m\u001B[0m\u001B[0m\n\u001B[1;32m    104\u001B[0m     \u001B[0mrender\u001B[0m\u001B[0;34m(\u001B[0m\u001B[0mdocs\u001B[0m\u001B[0;34m,\u001B[0m \u001B[0mstyle\u001B[0m\u001B[0;34m=\u001B[0m\u001B[0mstyle\u001B[0m\u001B[0;34m,\u001B[0m \u001B[0mpage\u001B[0m\u001B[0;34m=\u001B[0m\u001B[0mpage\u001B[0m\u001B[0;34m,\u001B[0m \u001B[0mminify\u001B[0m\u001B[0;34m=\u001B[0m\u001B[0mminify\u001B[0m\u001B[0;34m,\u001B[0m \u001B[0moptions\u001B[0m\u001B[0;34m=\u001B[0m\u001B[0moptions\u001B[0m\u001B[0;34m,\u001B[0m \u001B[0mmanual\u001B[0m\u001B[0;34m=\u001B[0m\u001B[0mmanual\u001B[0m\u001B[0;34m)\u001B[0m\u001B[0;34m\u001B[0m\u001B[0;34m\u001B[0m\u001B[0m\n\u001B[0;32m--> 105\u001B[0;31m     \u001B[0mhttpd\u001B[0m \u001B[0;34m=\u001B[0m \u001B[0msimple_server\u001B[0m\u001B[0;34m.\u001B[0m\u001B[0mmake_server\u001B[0m\u001B[0;34m(\u001B[0m\u001B[0mhost\u001B[0m\u001B[0;34m,\u001B[0m \u001B[0mport\u001B[0m\u001B[0;34m,\u001B[0m \u001B[0mapp\u001B[0m\u001B[0;34m)\u001B[0m\u001B[0;34m\u001B[0m\u001B[0;34m\u001B[0m\u001B[0m\n\u001B[0m\u001B[1;32m    106\u001B[0m     \u001B[0mprint\u001B[0m\u001B[0;34m(\u001B[0m\u001B[0;34mf\"\\nUsing the '{style}' visualizer\"\u001B[0m\u001B[0;34m)\u001B[0m\u001B[0;34m\u001B[0m\u001B[0;34m\u001B[0m\u001B[0m\n\u001B[1;32m    107\u001B[0m     \u001B[0mprint\u001B[0m\u001B[0;34m(\u001B[0m\u001B[0;34mf\"Serving on http://{host}:{port} ...\\n\"\u001B[0m\u001B[0;34m)\u001B[0m\u001B[0;34m\u001B[0m\u001B[0;34m\u001B[0m\u001B[0m\n",
      "\u001B[0;32m~/.pyenv/versions/anaconda3-2020.02/lib/python3.7/wsgiref/simple_server.py\u001B[0m in \u001B[0;36mmake_server\u001B[0;34m(host, port, app, server_class, handler_class)\u001B[0m\n\u001B[1;32m    151\u001B[0m ):\n\u001B[1;32m    152\u001B[0m     \u001B[0;34m\"\"\"Create a new WSGI server listening on `host` and `port` for `app`\"\"\"\u001B[0m\u001B[0;34m\u001B[0m\u001B[0;34m\u001B[0m\u001B[0m\n\u001B[0;32m--> 153\u001B[0;31m     \u001B[0mserver\u001B[0m \u001B[0;34m=\u001B[0m \u001B[0mserver_class\u001B[0m\u001B[0;34m(\u001B[0m\u001B[0;34m(\u001B[0m\u001B[0mhost\u001B[0m\u001B[0;34m,\u001B[0m \u001B[0mport\u001B[0m\u001B[0;34m)\u001B[0m\u001B[0;34m,\u001B[0m \u001B[0mhandler_class\u001B[0m\u001B[0;34m)\u001B[0m\u001B[0;34m\u001B[0m\u001B[0;34m\u001B[0m\u001B[0m\n\u001B[0m\u001B[1;32m    154\u001B[0m     \u001B[0mserver\u001B[0m\u001B[0;34m.\u001B[0m\u001B[0mset_app\u001B[0m\u001B[0;34m(\u001B[0m\u001B[0mapp\u001B[0m\u001B[0;34m)\u001B[0m\u001B[0;34m\u001B[0m\u001B[0;34m\u001B[0m\u001B[0m\n\u001B[1;32m    155\u001B[0m     \u001B[0;32mreturn\u001B[0m \u001B[0mserver\u001B[0m\u001B[0;34m\u001B[0m\u001B[0;34m\u001B[0m\u001B[0m\n",
      "\u001B[0;32m~/.pyenv/versions/anaconda3-2020.02/lib/python3.7/socketserver.py\u001B[0m in \u001B[0;36m__init__\u001B[0;34m(self, server_address, RequestHandlerClass, bind_and_activate)\u001B[0m\n\u001B[1;32m    450\u001B[0m         \u001B[0;32mif\u001B[0m \u001B[0mbind_and_activate\u001B[0m\u001B[0;34m:\u001B[0m\u001B[0;34m\u001B[0m\u001B[0;34m\u001B[0m\u001B[0m\n\u001B[1;32m    451\u001B[0m             \u001B[0;32mtry\u001B[0m\u001B[0;34m:\u001B[0m\u001B[0;34m\u001B[0m\u001B[0;34m\u001B[0m\u001B[0m\n\u001B[0;32m--> 452\u001B[0;31m                 \u001B[0mself\u001B[0m\u001B[0;34m.\u001B[0m\u001B[0mserver_bind\u001B[0m\u001B[0;34m(\u001B[0m\u001B[0;34m)\u001B[0m\u001B[0;34m\u001B[0m\u001B[0;34m\u001B[0m\u001B[0m\n\u001B[0m\u001B[1;32m    453\u001B[0m                 \u001B[0mself\u001B[0m\u001B[0;34m.\u001B[0m\u001B[0mserver_activate\u001B[0m\u001B[0;34m(\u001B[0m\u001B[0;34m)\u001B[0m\u001B[0;34m\u001B[0m\u001B[0;34m\u001B[0m\u001B[0m\n\u001B[1;32m    454\u001B[0m             \u001B[0;32mexcept\u001B[0m\u001B[0;34m:\u001B[0m\u001B[0;34m\u001B[0m\u001B[0;34m\u001B[0m\u001B[0m\n",
      "\u001B[0;32m~/.pyenv/versions/anaconda3-2020.02/lib/python3.7/wsgiref/simple_server.py\u001B[0m in \u001B[0;36mserver_bind\u001B[0;34m(self)\u001B[0m\n\u001B[1;32m     48\u001B[0m     \u001B[0;32mdef\u001B[0m \u001B[0mserver_bind\u001B[0m\u001B[0;34m(\u001B[0m\u001B[0mself\u001B[0m\u001B[0;34m)\u001B[0m\u001B[0;34m:\u001B[0m\u001B[0;34m\u001B[0m\u001B[0;34m\u001B[0m\u001B[0m\n\u001B[1;32m     49\u001B[0m         \u001B[0;34m\"\"\"Override server_bind to store the server name.\"\"\"\u001B[0m\u001B[0;34m\u001B[0m\u001B[0;34m\u001B[0m\u001B[0m\n\u001B[0;32m---> 50\u001B[0;31m         \u001B[0mHTTPServer\u001B[0m\u001B[0;34m.\u001B[0m\u001B[0mserver_bind\u001B[0m\u001B[0;34m(\u001B[0m\u001B[0mself\u001B[0m\u001B[0;34m)\u001B[0m\u001B[0;34m\u001B[0m\u001B[0;34m\u001B[0m\u001B[0m\n\u001B[0m\u001B[1;32m     51\u001B[0m         \u001B[0mself\u001B[0m\u001B[0;34m.\u001B[0m\u001B[0msetup_environ\u001B[0m\u001B[0;34m(\u001B[0m\u001B[0;34m)\u001B[0m\u001B[0;34m\u001B[0m\u001B[0;34m\u001B[0m\u001B[0m\n\u001B[1;32m     52\u001B[0m \u001B[0;34m\u001B[0m\u001B[0m\n",
      "\u001B[0;32m~/.pyenv/versions/anaconda3-2020.02/lib/python3.7/http/server.py\u001B[0m in \u001B[0;36mserver_bind\u001B[0;34m(self)\u001B[0m\n\u001B[1;32m    135\u001B[0m     \u001B[0;32mdef\u001B[0m \u001B[0mserver_bind\u001B[0m\u001B[0;34m(\u001B[0m\u001B[0mself\u001B[0m\u001B[0;34m)\u001B[0m\u001B[0;34m:\u001B[0m\u001B[0;34m\u001B[0m\u001B[0;34m\u001B[0m\u001B[0m\n\u001B[1;32m    136\u001B[0m         \u001B[0;34m\"\"\"Override server_bind to store the server name.\"\"\"\u001B[0m\u001B[0;34m\u001B[0m\u001B[0;34m\u001B[0m\u001B[0m\n\u001B[0;32m--> 137\u001B[0;31m         \u001B[0msocketserver\u001B[0m\u001B[0;34m.\u001B[0m\u001B[0mTCPServer\u001B[0m\u001B[0;34m.\u001B[0m\u001B[0mserver_bind\u001B[0m\u001B[0;34m(\u001B[0m\u001B[0mself\u001B[0m\u001B[0;34m)\u001B[0m\u001B[0;34m\u001B[0m\u001B[0;34m\u001B[0m\u001B[0m\n\u001B[0m\u001B[1;32m    138\u001B[0m         \u001B[0mhost\u001B[0m\u001B[0;34m,\u001B[0m \u001B[0mport\u001B[0m \u001B[0;34m=\u001B[0m \u001B[0mself\u001B[0m\u001B[0;34m.\u001B[0m\u001B[0mserver_address\u001B[0m\u001B[0;34m[\u001B[0m\u001B[0;34m:\u001B[0m\u001B[0;36m2\u001B[0m\u001B[0;34m]\u001B[0m\u001B[0;34m\u001B[0m\u001B[0;34m\u001B[0m\u001B[0m\n\u001B[1;32m    139\u001B[0m         \u001B[0mself\u001B[0m\u001B[0;34m.\u001B[0m\u001B[0mserver_name\u001B[0m \u001B[0;34m=\u001B[0m \u001B[0msocket\u001B[0m\u001B[0;34m.\u001B[0m\u001B[0mgetfqdn\u001B[0m\u001B[0;34m(\u001B[0m\u001B[0mhost\u001B[0m\u001B[0;34m)\u001B[0m\u001B[0;34m\u001B[0m\u001B[0;34m\u001B[0m\u001B[0m\n",
      "\u001B[0;32m~/.pyenv/versions/anaconda3-2020.02/lib/python3.7/socketserver.py\u001B[0m in \u001B[0;36mserver_bind\u001B[0;34m(self)\u001B[0m\n\u001B[1;32m    464\u001B[0m         \u001B[0;32mif\u001B[0m \u001B[0mself\u001B[0m\u001B[0;34m.\u001B[0m\u001B[0mallow_reuse_address\u001B[0m\u001B[0;34m:\u001B[0m\u001B[0;34m\u001B[0m\u001B[0;34m\u001B[0m\u001B[0m\n\u001B[1;32m    465\u001B[0m             \u001B[0mself\u001B[0m\u001B[0;34m.\u001B[0m\u001B[0msocket\u001B[0m\u001B[0;34m.\u001B[0m\u001B[0msetsockopt\u001B[0m\u001B[0;34m(\u001B[0m\u001B[0msocket\u001B[0m\u001B[0;34m.\u001B[0m\u001B[0mSOL_SOCKET\u001B[0m\u001B[0;34m,\u001B[0m \u001B[0msocket\u001B[0m\u001B[0;34m.\u001B[0m\u001B[0mSO_REUSEADDR\u001B[0m\u001B[0;34m,\u001B[0m \u001B[0;36m1\u001B[0m\u001B[0;34m)\u001B[0m\u001B[0;34m\u001B[0m\u001B[0;34m\u001B[0m\u001B[0m\n\u001B[0;32m--> 466\u001B[0;31m         \u001B[0mself\u001B[0m\u001B[0;34m.\u001B[0m\u001B[0msocket\u001B[0m\u001B[0;34m.\u001B[0m\u001B[0mbind\u001B[0m\u001B[0;34m(\u001B[0m\u001B[0mself\u001B[0m\u001B[0;34m.\u001B[0m\u001B[0mserver_address\u001B[0m\u001B[0;34m)\u001B[0m\u001B[0;34m\u001B[0m\u001B[0;34m\u001B[0m\u001B[0m\n\u001B[0m\u001B[1;32m    467\u001B[0m         \u001B[0mself\u001B[0m\u001B[0;34m.\u001B[0m\u001B[0mserver_address\u001B[0m \u001B[0;34m=\u001B[0m \u001B[0mself\u001B[0m\u001B[0;34m.\u001B[0m\u001B[0msocket\u001B[0m\u001B[0;34m.\u001B[0m\u001B[0mgetsockname\u001B[0m\u001B[0;34m(\u001B[0m\u001B[0;34m)\u001B[0m\u001B[0;34m\u001B[0m\u001B[0;34m\u001B[0m\u001B[0m\n\u001B[1;32m    468\u001B[0m \u001B[0;34m\u001B[0m\u001B[0m\n",
      "\u001B[0;31mOSError\u001B[0m: [Errno 48] Address already in use"
     ]
    }
   ],
   "source": [
    "import spacy\n",
    "from spacy import displacy\n",
    "\n",
    "# displacy.serve(doc, style=\"dep\")\n",
    "displacy.serve(doc, style=\"ent\")"
   ],
   "metadata": {
    "collapsed": false,
    "pycharm": {
     "name": "#%%\n"
    }
   }
  },
  {
   "cell_type": "code",
   "execution_count": 55,
   "outputs": [
    {
     "name": "stdout",
     "output_type": "stream",
     "text": [
      "[['initiation di rna replication wild type leader'], ['rna molecules leader'], ['rna replication test hypothesis'], ['natural mouse hepatitis coronavirus di rnas di rna bovine coronavirus'], ['genome replication']]\n"
     ]
    }
   ],
   "source": [
    "rank_cutoff = 0.01\n",
    "\n",
    "top_keywords = []\n",
    "for keywords, ranks in zip(keyword_list, ranks_list):\n",
    "    top_keywords.append((np.array(keywords)[np.array(ranks) > rank_cutoff]).tolist())\n",
    "\n",
    "print(top_keywords[:5])"
   ],
   "metadata": {
    "collapsed": false,
    "pycharm": {
     "name": "#%%\n"
    }
   }
  },
  {
   "cell_type": "code",
   "execution_count": 73,
   "outputs": [
    {
     "name": "stdout",
     "output_type": "stream",
     "text": [
      "845\n"
     ]
    }
   ],
   "source": [
    "from itertools import combinations, chain\n",
    "from collections import Counter\n",
    "\n",
    "# form pairs of keywords from each document\n",
    "keyword_pair = list(chain(*[list(combinations(str(kw_list).split(), 2)) for kw_list in top_keywords]))\n",
    "\n",
    "# count all the unique pairs\n",
    "pair_counter = Counter(keyword_pair).items()\n",
    "\n",
    "print(len(pair_counter))"
   ],
   "metadata": {
    "collapsed": false,
    "pycharm": {
     "name": "#%%\n"
    }
   }
  },
  {
   "cell_type": "code",
   "execution_count": 74,
   "outputs": [],
   "source": [
    "def get_pair_graph(pair_counter, weight_times=1, degree_cutoff=50):\n",
    "    G = nx.Graph()\n",
    "\n",
    "    #construct the graph from the edges\n",
    "    for pair, weight in pair_counter:\n",
    "        G.add_edge(*pair, weight=weight_times * (weight))\n",
    "\n",
    "    # remove nodes with degrees smaller than the cutoff\n",
    "    node_list = []\n",
    "    for node in np.copy(G.nodes):\n",
    "        if G.degree(node) < degree_cutoff:\n",
    "            G.remove_node(node)\n",
    "\n",
    "    return G"
   ],
   "metadata": {
    "collapsed": false,
    "pycharm": {
     "name": "#%%\n"
    }
   }
  },
  {
   "cell_type": "code",
   "execution_count": 75,
   "outputs": [],
   "source": [
    "# get the keyword pair graph\n",
    "G = get_pair_graph(pair_counter, degree_cutoff=50)"
   ],
   "metadata": {
    "collapsed": false,
    "pycharm": {
     "name": "#%%\n"
    }
   }
  },
  {
   "cell_type": "code",
   "execution_count": 78,
   "outputs": [],
   "source": [
    "# calculate the node sizes using arbitrary transformation\n",
    "node_sizes = [20 * G.degree[node] ** 2 + 100 for node in G.nodes]\n",
    "\n",
    "# construct the label dictionary\n",
    "labels = {i: i for i in list(G.nodes)}"
   ],
   "metadata": {
    "collapsed": false,
    "pycharm": {
     "name": "#%%\n"
    }
   }
  },
  {
   "cell_type": "code",
   "execution_count": 79,
   "outputs": [
    {
     "name": "stdout",
     "output_type": "stream",
     "text": [
      "0\n"
     ]
    }
   ],
   "source": [
    "print(len(G.nodes))"
   ],
   "metadata": {
    "collapsed": false,
    "pycharm": {
     "name": "#%%\n"
    }
   }
  },
  {
   "cell_type": "code",
   "execution_count": 80,
   "outputs": [
    {
     "ename": "KeyError",
     "evalue": "'viruses'",
     "output_type": "error",
     "traceback": [
      "\u001B[0;31m---------------------------------------------------------------------------\u001B[0m",
      "\u001B[0;31mKeyError\u001B[0m                                  Traceback (most recent call last)",
      "\u001B[0;32m<ipython-input-80-14ca602a6812>\u001B[0m in \u001B[0;36m<module>\u001B[0;34m\u001B[0m\n\u001B[1;32m      4\u001B[0m pos = nx.spring_layout(G, k=3,\n\u001B[1;32m      5\u001B[0m                        \u001B[0mfixed\u001B[0m\u001B[0;34m=\u001B[0m\u001B[0;34m[\u001B[0m\u001B[0;34m\"viruses\"\u001B[0m\u001B[0;34m]\u001B[0m\u001B[0;34m,\u001B[0m \u001B[0mpos\u001B[0m\u001B[0;34m=\u001B[0m\u001B[0;34m{\u001B[0m\u001B[0;34m\"viruses\"\u001B[0m\u001B[0;34m:\u001B[0m \u001B[0;34m(\u001B[0m\u001B[0;36m0\u001B[0m\u001B[0;34m,\u001B[0m \u001B[0;36m0\u001B[0m\u001B[0;34m)\u001B[0m\u001B[0;34m}\u001B[0m\u001B[0;34m,\u001B[0m\u001B[0;34m\u001B[0m\u001B[0;34m\u001B[0m\u001B[0m\n\u001B[0;32m----> 6\u001B[0;31m                        dim=2, iterations=50)\n\u001B[0m\u001B[1;32m      7\u001B[0m \u001B[0;34m\u001B[0m\u001B[0m\n\u001B[1;32m      8\u001B[0m nx.draw_networkx_nodes(G, pos,\n",
      "\u001B[0;32m</Users/megan/.pyenv/versions/anaconda3-2020.02/lib/python3.7/site-packages/decorator.py:decorator-gen-829>\u001B[0m in \u001B[0;36mfruchterman_reingold_layout\u001B[0;34m(G, k, pos, fixed, iterations, threshold, weight, scale, center, dim, seed)\u001B[0m\n",
      "\u001B[0;32m~/.pyenv/versions/anaconda3-2020.02/lib/python3.7/site-packages/networkx/utils/decorators.py\u001B[0m in \u001B[0;36m_random_state\u001B[0;34m(func, *args, **kwargs)\u001B[0m\n\u001B[1;32m    403\u001B[0m            \u001B[0;32mreturn\u001B[0m \u001B[0mseed\u001B[0m\u001B[0;34m.\u001B[0m\u001B[0mrand\u001B[0m\u001B[0;34m(\u001B[0m\u001B[0;34m*\u001B[0m\u001B[0mdims\u001B[0m\u001B[0;34m)\u001B[0m\u001B[0;34m\u001B[0m\u001B[0;34m\u001B[0m\u001B[0m\n\u001B[1;32m    404\u001B[0m \u001B[0;34m\u001B[0m\u001B[0m\n\u001B[0;32m--> 405\u001B[0;31m     \u001B[0mSee\u001B[0m \u001B[0mAlso\u001B[0m\u001B[0;34m\u001B[0m\u001B[0;34m\u001B[0m\u001B[0m\n\u001B[0m\u001B[1;32m    406\u001B[0m     \u001B[0;34m-\u001B[0m\u001B[0;34m-\u001B[0m\u001B[0;34m-\u001B[0m\u001B[0;34m-\u001B[0m\u001B[0;34m-\u001B[0m\u001B[0;34m-\u001B[0m\u001B[0;34m-\u001B[0m\u001B[0;34m-\u001B[0m\u001B[0;34m\u001B[0m\u001B[0;34m\u001B[0m\u001B[0m\n\u001B[1;32m    407\u001B[0m     \u001B[0mnp_random_state\u001B[0m\u001B[0;34m\u001B[0m\u001B[0;34m\u001B[0m\u001B[0m\n",
      "\u001B[0;32m~/.pyenv/versions/anaconda3-2020.02/lib/python3.7/site-packages/networkx/drawing/layout.py\u001B[0m in \u001B[0;36mfruchterman_reingold_layout\u001B[0;34m(G, k, pos, fixed, iterations, threshold, weight, scale, center, dim, seed)\u001B[0m\n\u001B[1;32m    454\u001B[0m         \u001B[0;31m# Determine size of existing domain to adjust initial positions\u001B[0m\u001B[0;34m\u001B[0m\u001B[0;34m\u001B[0m\u001B[0;34m\u001B[0m\u001B[0m\n\u001B[1;32m    455\u001B[0m         \u001B[0mdom_size\u001B[0m \u001B[0;34m=\u001B[0m \u001B[0mmax\u001B[0m\u001B[0;34m(\u001B[0m\u001B[0mcoord\u001B[0m \u001B[0;32mfor\u001B[0m \u001B[0mpos_tup\u001B[0m \u001B[0;32min\u001B[0m \u001B[0mpos\u001B[0m\u001B[0;34m.\u001B[0m\u001B[0mvalues\u001B[0m\u001B[0;34m(\u001B[0m\u001B[0;34m)\u001B[0m \u001B[0;32mfor\u001B[0m \u001B[0mcoord\u001B[0m \u001B[0;32min\u001B[0m \u001B[0mpos_tup\u001B[0m\u001B[0;34m)\u001B[0m\u001B[0;34m\u001B[0m\u001B[0;34m\u001B[0m\u001B[0m\n\u001B[0;32m--> 456\u001B[0;31m         \u001B[0;32mif\u001B[0m \u001B[0mdom_size\u001B[0m \u001B[0;34m==\u001B[0m \u001B[0;36m0\u001B[0m\u001B[0;34m:\u001B[0m\u001B[0;34m\u001B[0m\u001B[0;34m\u001B[0m\u001B[0m\n\u001B[0m\u001B[1;32m    457\u001B[0m             \u001B[0mdom_size\u001B[0m \u001B[0;34m=\u001B[0m \u001B[0;36m1\u001B[0m\u001B[0;34m\u001B[0m\u001B[0;34m\u001B[0m\u001B[0m\n\u001B[1;32m    458\u001B[0m         \u001B[0mpos_arr\u001B[0m \u001B[0;34m=\u001B[0m \u001B[0mseed\u001B[0m\u001B[0;34m.\u001B[0m\u001B[0mrand\u001B[0m\u001B[0;34m(\u001B[0m\u001B[0mlen\u001B[0m\u001B[0;34m(\u001B[0m\u001B[0mG\u001B[0m\u001B[0;34m)\u001B[0m\u001B[0;34m,\u001B[0m \u001B[0mdim\u001B[0m\u001B[0;34m)\u001B[0m \u001B[0;34m*\u001B[0m \u001B[0mdom_size\u001B[0m \u001B[0;34m+\u001B[0m \u001B[0mcenter\u001B[0m\u001B[0;34m\u001B[0m\u001B[0;34m\u001B[0m\u001B[0m\n",
      "\u001B[0;32m~/.pyenv/versions/anaconda3-2020.02/lib/python3.7/site-packages/networkx/drawing/layout.py\u001B[0m in \u001B[0;36m<listcomp>\u001B[0;34m(.0)\u001B[0m\n\u001B[1;32m    454\u001B[0m         \u001B[0;31m# Determine size of existing domain to adjust initial positions\u001B[0m\u001B[0;34m\u001B[0m\u001B[0;34m\u001B[0m\u001B[0;34m\u001B[0m\u001B[0m\n\u001B[1;32m    455\u001B[0m         \u001B[0mdom_size\u001B[0m \u001B[0;34m=\u001B[0m \u001B[0mmax\u001B[0m\u001B[0;34m(\u001B[0m\u001B[0mcoord\u001B[0m \u001B[0;32mfor\u001B[0m \u001B[0mpos_tup\u001B[0m \u001B[0;32min\u001B[0m \u001B[0mpos\u001B[0m\u001B[0;34m.\u001B[0m\u001B[0mvalues\u001B[0m\u001B[0;34m(\u001B[0m\u001B[0;34m)\u001B[0m \u001B[0;32mfor\u001B[0m \u001B[0mcoord\u001B[0m \u001B[0;32min\u001B[0m \u001B[0mpos_tup\u001B[0m\u001B[0;34m)\u001B[0m\u001B[0;34m\u001B[0m\u001B[0;34m\u001B[0m\u001B[0m\n\u001B[0;32m--> 456\u001B[0;31m         \u001B[0;32mif\u001B[0m \u001B[0mdom_size\u001B[0m \u001B[0;34m==\u001B[0m \u001B[0;36m0\u001B[0m\u001B[0;34m:\u001B[0m\u001B[0;34m\u001B[0m\u001B[0;34m\u001B[0m\u001B[0m\n\u001B[0m\u001B[1;32m    457\u001B[0m             \u001B[0mdom_size\u001B[0m \u001B[0;34m=\u001B[0m \u001B[0;36m1\u001B[0m\u001B[0;34m\u001B[0m\u001B[0;34m\u001B[0m\u001B[0m\n\u001B[1;32m    458\u001B[0m         \u001B[0mpos_arr\u001B[0m \u001B[0;34m=\u001B[0m \u001B[0mseed\u001B[0m\u001B[0;34m.\u001B[0m\u001B[0mrand\u001B[0m\u001B[0;34m(\u001B[0m\u001B[0mlen\u001B[0m\u001B[0;34m(\u001B[0m\u001B[0mG\u001B[0m\u001B[0;34m)\u001B[0m\u001B[0;34m,\u001B[0m \u001B[0mdim\u001B[0m\u001B[0;34m)\u001B[0m \u001B[0;34m*\u001B[0m \u001B[0mdom_size\u001B[0m \u001B[0;34m+\u001B[0m \u001B[0mcenter\u001B[0m\u001B[0;34m\u001B[0m\u001B[0;34m\u001B[0m\u001B[0m\n",
      "\u001B[0;31mKeyError\u001B[0m: 'viruses'"
     ]
    },
    {
     "data": {
      "text/plain": "<Figure size 1000x1000 with 0 Axes>"
     },
     "metadata": {},
     "output_type": "display_data"
    }
   ],
   "source": [
    "# draw the graph\n",
    "plt.figure(figsize=(10, 10), dpi=100)\n",
    "\n",
    "pos = nx.spring_layout(G, k=3,\n",
    "                       fixed=[\"viruses\"], pos={\"viruses\": (0, 0)},\n",
    "                       dim=2, iterations=50)\n",
    "\n",
    "nx.draw_networkx_nodes(G, pos,\n",
    "                       #with_labels=True,\n",
    "                       node_color=\"tab:orange\",\n",
    "                       node_size=node_sizes,\n",
    "                       node_shape=\"8\",\n",
    "                       edgecolors=\"tab:red\",\n",
    "                       )\n",
    "\n",
    "nx.draw_networkx_edges(G, pos,\n",
    "                       #with_labels=True,\n",
    "                       edgecolors=\"grey\",\n",
    "                       alpha=0.1,\n",
    "                       )\n",
    "\n",
    "_ = nx.draw_networkx_labels(G, pos,\n",
    "                            labels=labels,\n",
    "                            )"
   ],
   "metadata": {
    "collapsed": false,
    "pycharm": {
     "name": "#%%\n"
    }
   }
  }
 ],
 "metadata": {
  "kernelspec": {
   "display_name": "Python 3",
   "language": "python",
   "name": "python3"
  },
  "language_info": {
   "codemirror_mode": {
    "name": "ipython",
    "version": 2
   },
   "file_extension": ".py",
   "mimetype": "text/x-python",
   "name": "python",
   "nbconvert_exporter": "python",
   "pygments_lexer": "ipython2",
   "version": "2.7.6"
  }
 },
 "nbformat": 4,
 "nbformat_minor": 0
}