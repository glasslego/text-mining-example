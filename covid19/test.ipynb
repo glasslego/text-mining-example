{
 "cells": [
  {
   "cell_type": "code",
   "execution_count": 12,
   "outputs": [
    {
     "name": "stdout",
     "output_type": "stream",
     "text": [
      "Requirement already satisfied: pytextrank in /Users/megan/.pyenv/versions/anaconda3-2020.02/lib/python3.7/site-packages (2.0.0)\r\n",
      "Requirement already satisfied: graphviz in /Users/megan/.pyenv/versions/anaconda3-2020.02/lib/python3.7/site-packages (from pytextrank) (0.20.1)\r\n",
      "Requirement already satisfied: spacy in /Users/megan/.pyenv/versions/anaconda3-2020.02/lib/python3.7/site-packages (from pytextrank) (3.4.2)\r\n",
      "Requirement already satisfied: networkx in /Users/megan/.pyenv/versions/anaconda3-2020.02/lib/python3.7/site-packages (from pytextrank) (2.6.3)\r\n",
      "Requirement already satisfied: srsly<3.0.0,>=2.4.3 in /Users/megan/.pyenv/versions/anaconda3-2020.02/lib/python3.7/site-packages (from spacy->pytextrank) (2.4.5)\r\n",
      "Requirement already satisfied: murmurhash<1.1.0,>=0.28.0 in /Users/megan/.pyenv/versions/anaconda3-2020.02/lib/python3.7/site-packages (from spacy->pytextrank) (1.0.9)\r\n",
      "Requirement already satisfied: catalogue<2.1.0,>=2.0.6 in /Users/megan/.pyenv/versions/anaconda3-2020.02/lib/python3.7/site-packages (from spacy->pytextrank) (2.0.8)\r\n",
      "Requirement already satisfied: cymem<2.1.0,>=2.0.2 in /Users/megan/.pyenv/versions/anaconda3-2020.02/lib/python3.7/site-packages (from spacy->pytextrank) (2.0.7)\r\n",
      "Requirement already satisfied: spacy-legacy<3.1.0,>=3.0.10 in /Users/megan/.pyenv/versions/anaconda3-2020.02/lib/python3.7/site-packages (from spacy->pytextrank) (3.0.10)\r\n",
      "Requirement already satisfied: wasabi<1.1.0,>=0.9.1 in /Users/megan/.pyenv/versions/anaconda3-2020.02/lib/python3.7/site-packages (from spacy->pytextrank) (0.10.1)\r\n",
      "Requirement already satisfied: numpy>=1.15.0 in /Users/megan/.pyenv/versions/anaconda3-2020.02/lib/python3.7/site-packages (from spacy->pytextrank) (1.20.2)\r\n",
      "Requirement already satisfied: tqdm<5.0.0,>=4.38.0 in /Users/megan/.pyenv/versions/anaconda3-2020.02/lib/python3.7/site-packages (from spacy->pytextrank) (4.42.1)\r\n",
      "Requirement already satisfied: typing-extensions<4.2.0,>=3.7.4; python_version < \"3.8\" in /Users/megan/.pyenv/versions/anaconda3-2020.02/lib/python3.7/site-packages (from spacy->pytextrank) (4.1.1)\r\n",
      "Requirement already satisfied: preshed<3.1.0,>=3.0.2 in /Users/megan/.pyenv/versions/anaconda3-2020.02/lib/python3.7/site-packages (from spacy->pytextrank) (3.0.8)\r\n",
      "Requirement already satisfied: langcodes<4.0.0,>=3.2.0 in /Users/megan/.pyenv/versions/anaconda3-2020.02/lib/python3.7/site-packages (from spacy->pytextrank) (3.3.0)\r\n",
      "Requirement already satisfied: pydantic!=1.8,!=1.8.1,<1.11.0,>=1.7.4 in /Users/megan/.pyenv/versions/anaconda3-2020.02/lib/python3.7/site-packages (from spacy->pytextrank) (1.10.2)\r\n",
      "Requirement already satisfied: requests<3.0.0,>=2.13.0 in /Users/megan/.pyenv/versions/anaconda3-2020.02/lib/python3.7/site-packages (from spacy->pytextrank) (2.27.1)\r\n",
      "Requirement already satisfied: packaging>=20.0 in /Users/megan/.pyenv/versions/anaconda3-2020.02/lib/python3.7/site-packages (from spacy->pytextrank) (21.3)\r\n",
      "Requirement already satisfied: pathy>=0.3.5 in /Users/megan/.pyenv/versions/anaconda3-2020.02/lib/python3.7/site-packages (from spacy->pytextrank) (0.6.2)\r\n",
      "Requirement already satisfied: spacy-loggers<2.0.0,>=1.0.0 in /Users/megan/.pyenv/versions/anaconda3-2020.02/lib/python3.7/site-packages (from spacy->pytextrank) (1.0.3)\r\n",
      "Requirement already satisfied: setuptools in /Users/megan/.pyenv/versions/anaconda3-2020.02/lib/python3.7/site-packages (from spacy->pytextrank) (45.2.0.post20200210)\r\n",
      "Requirement already satisfied: typer<0.5.0,>=0.3.0 in /Users/megan/.pyenv/versions/anaconda3-2020.02/lib/python3.7/site-packages (from spacy->pytextrank) (0.4.2)\r\n",
      "Requirement already satisfied: thinc<8.2.0,>=8.1.0 in /Users/megan/.pyenv/versions/anaconda3-2020.02/lib/python3.7/site-packages (from spacy->pytextrank) (8.1.5)\r\n",
      "Requirement already satisfied: jinja2 in /Users/megan/.pyenv/versions/anaconda3-2020.02/lib/python3.7/site-packages (from spacy->pytextrank) (2.11.1)\r\n",
      "Requirement already satisfied: zipp>=0.5; python_version < \"3.8\" in /Users/megan/.pyenv/versions/anaconda3-2020.02/lib/python3.7/site-packages (from catalogue<2.1.0,>=2.0.6->spacy->pytextrank) (2.2.0)\r\n",
      "Requirement already satisfied: idna<4,>=2.5; python_version >= \"3\" in /Users/megan/.pyenv/versions/anaconda3-2020.02/lib/python3.7/site-packages (from requests<3.0.0,>=2.13.0->spacy->pytextrank) (2.8)\r\n",
      "Requirement already satisfied: urllib3<1.27,>=1.21.1 in /Users/megan/.pyenv/versions/anaconda3-2020.02/lib/python3.7/site-packages (from requests<3.0.0,>=2.13.0->spacy->pytextrank) (1.26.9)\r\n",
      "Requirement already satisfied: charset-normalizer~=2.0.0; python_version >= \"3\" in /Users/megan/.pyenv/versions/anaconda3-2020.02/lib/python3.7/site-packages (from requests<3.0.0,>=2.13.0->spacy->pytextrank) (2.0.12)\r\n",
      "Requirement already satisfied: certifi>=2017.4.17 in /Users/megan/.pyenv/versions/anaconda3-2020.02/lib/python3.7/site-packages (from requests<3.0.0,>=2.13.0->spacy->pytextrank) (2021.10.8)\r\n",
      "Requirement already satisfied: pyparsing!=3.0.5,>=2.0.2 in /Users/megan/.pyenv/versions/anaconda3-2020.02/lib/python3.7/site-packages (from packaging>=20.0->spacy->pytextrank) (2.4.6)\r\n",
      "Requirement already satisfied: smart-open<6.0.0,>=5.2.1 in /Users/megan/.pyenv/versions/anaconda3-2020.02/lib/python3.7/site-packages (from pathy>=0.3.5->spacy->pytextrank) (5.2.1)\r\n",
      "Requirement already satisfied: click<9.0.0,>=7.1.1 in /Users/megan/.pyenv/versions/anaconda3-2020.02/lib/python3.7/site-packages (from typer<0.5.0,>=0.3.0->spacy->pytextrank) (8.1.3)\r\n",
      "Requirement already satisfied: confection<1.0.0,>=0.0.1 in /Users/megan/.pyenv/versions/anaconda3-2020.02/lib/python3.7/site-packages (from thinc<8.2.0,>=8.1.0->spacy->pytextrank) (0.0.3)\r\n",
      "Requirement already satisfied: blis<0.8.0,>=0.7.8 in /Users/megan/.pyenv/versions/anaconda3-2020.02/lib/python3.7/site-packages (from thinc<8.2.0,>=8.1.0->spacy->pytextrank) (0.7.9)\r\n",
      "Requirement already satisfied: MarkupSafe>=0.23 in /Users/megan/.pyenv/versions/anaconda3-2020.02/lib/python3.7/site-packages (from jinja2->spacy->pytextrank) (1.1.1)\r\n",
      "Requirement already satisfied: importlib-metadata; python_version < \"3.8\" in /Users/megan/.pyenv/versions/anaconda3-2020.02/lib/python3.7/site-packages (from click<9.0.0,>=7.1.1->typer<0.5.0,>=0.3.0->spacy->pytextrank) (1.5.0)\r\n",
      "\u001B[31mERROR: Could not find a version that satisfies the requirement 0.13 (from versions: none)\u001B[0m\r\n",
      "\u001B[31mERROR: No matching distribution found for 0.13\u001B[0m\r\n",
      "\u001B[31mERROR: Could not find a version that satisfies the requirement 2.1 (from versions: none)\u001B[0m\r\n",
      "\u001B[31mERROR: No matching distribution found for 2.1\u001B[0m\r\n",
      "\u001B[31mERROR: Could not find a version that satisfies the requirement 2.6 (from versions: none)\u001B[0m\r\n",
      "\u001B[31mERROR: No matching distribution found for 2.6\u001B[0m\r\n",
      "\u001B[31mERROR: Could not find a version that satisfies the requirement 2.7.4 (from versions: none)\u001B[0m\r\n",
      "\u001B[31mERROR: No matching distribution found for 2.7.4\u001B[0m\r\n",
      "\u001B[31mERROR: Could not find a version that satisfies the requirement 1.7 (from versions: none)\u001B[0m\r\n",
      "\u001B[31mERROR: No matching distribution found for 1.7\u001B[0m\r\n",
      "\u001B[31mERROR: Could not find a version that satisfies the requirement 3.0 (from versions: none)\u001B[0m\r\n",
      "\u001B[31mERROR: No matching distribution found for 3.0\u001B[0m\r\n"
     ]
    }
   ],
   "source": [
    "!pip install pytextrank\n",
    "!pip install graphviz >= 0.13\n",
    "!pip install icecream >= 2.1\n",
    "!pip install networkx[default] >= 2.6\n",
    "!pip install pygments >= 2.7.4\n",
    "!pip install scipy >= 1.7\n",
    "!pip install spacy >= 3.0"
   ],
   "metadata": {
    "collapsed": false,
    "pycharm": {
     "name": "#%%\n"
    }
   }
  },
  {
   "cell_type": "code",
   "execution_count": 8,
   "outputs": [
    {
     "name": "stdout",
     "output_type": "stream",
     "text": [
      "Requirement already satisfied: pytextrank in /Users/megan/.pyenv/versions/anaconda3-2020.02/lib/python3.7/site-packages (2.0.0)\r\n",
      "Requirement already satisfied: graphviz in /Users/megan/.pyenv/versions/anaconda3-2020.02/lib/python3.7/site-packages (from pytextrank) (0.20.1)\r\n",
      "Requirement already satisfied: spacy in /Users/megan/.pyenv/versions/anaconda3-2020.02/lib/python3.7/site-packages (from pytextrank) (3.4.2)\r\n",
      "Requirement already satisfied: networkx in /Users/megan/.pyenv/versions/anaconda3-2020.02/lib/python3.7/site-packages (from pytextrank) (2.6.3)\r\n",
      "Requirement already satisfied: packaging>=20.0 in /Users/megan/.pyenv/versions/anaconda3-2020.02/lib/python3.7/site-packages (from spacy->pytextrank) (21.3)\r\n",
      "Requirement already satisfied: thinc<8.2.0,>=8.1.0 in /Users/megan/.pyenv/versions/anaconda3-2020.02/lib/python3.7/site-packages (from spacy->pytextrank) (8.1.5)\r\n",
      "Requirement already satisfied: pathy>=0.3.5 in /Users/megan/.pyenv/versions/anaconda3-2020.02/lib/python3.7/site-packages (from spacy->pytextrank) (0.6.2)\r\n",
      "Requirement already satisfied: murmurhash<1.1.0,>=0.28.0 in /Users/megan/.pyenv/versions/anaconda3-2020.02/lib/python3.7/site-packages (from spacy->pytextrank) (1.0.9)\r\n",
      "Requirement already satisfied: numpy>=1.15.0 in /Users/megan/.pyenv/versions/anaconda3-2020.02/lib/python3.7/site-packages (from spacy->pytextrank) (1.20.2)\r\n",
      "Requirement already satisfied: jinja2 in /Users/megan/.pyenv/versions/anaconda3-2020.02/lib/python3.7/site-packages (from spacy->pytextrank) (2.11.1)\r\n",
      "Requirement already satisfied: cymem<2.1.0,>=2.0.2 in /Users/megan/.pyenv/versions/anaconda3-2020.02/lib/python3.7/site-packages (from spacy->pytextrank) (2.0.7)\r\n",
      "Requirement already satisfied: tqdm<5.0.0,>=4.38.0 in /Users/megan/.pyenv/versions/anaconda3-2020.02/lib/python3.7/site-packages (from spacy->pytextrank) (4.42.1)\r\n",
      "Requirement already satisfied: preshed<3.1.0,>=3.0.2 in /Users/megan/.pyenv/versions/anaconda3-2020.02/lib/python3.7/site-packages (from spacy->pytextrank) (3.0.8)\r\n",
      "Requirement already satisfied: srsly<3.0.0,>=2.4.3 in /Users/megan/.pyenv/versions/anaconda3-2020.02/lib/python3.7/site-packages (from spacy->pytextrank) (2.4.5)\r\n",
      "Requirement already satisfied: spacy-loggers<2.0.0,>=1.0.0 in /Users/megan/.pyenv/versions/anaconda3-2020.02/lib/python3.7/site-packages (from spacy->pytextrank) (1.0.3)\r\n",
      "Requirement already satisfied: langcodes<4.0.0,>=3.2.0 in /Users/megan/.pyenv/versions/anaconda3-2020.02/lib/python3.7/site-packages (from spacy->pytextrank) (3.3.0)\r\n",
      "Requirement already satisfied: wasabi<1.1.0,>=0.9.1 in /Users/megan/.pyenv/versions/anaconda3-2020.02/lib/python3.7/site-packages (from spacy->pytextrank) (0.10.1)\r\n",
      "Requirement already satisfied: pydantic!=1.8,!=1.8.1,<1.11.0,>=1.7.4 in /Users/megan/.pyenv/versions/anaconda3-2020.02/lib/python3.7/site-packages (from spacy->pytextrank) (1.10.2)\r\n",
      "Requirement already satisfied: spacy-legacy<3.1.0,>=3.0.10 in /Users/megan/.pyenv/versions/anaconda3-2020.02/lib/python3.7/site-packages (from spacy->pytextrank) (3.0.10)\r\n",
      "Requirement already satisfied: catalogue<2.1.0,>=2.0.6 in /Users/megan/.pyenv/versions/anaconda3-2020.02/lib/python3.7/site-packages (from spacy->pytextrank) (2.0.8)\r\n",
      "Requirement already satisfied: typing-extensions<4.2.0,>=3.7.4; python_version < \"3.8\" in /Users/megan/.pyenv/versions/anaconda3-2020.02/lib/python3.7/site-packages (from spacy->pytextrank) (4.1.1)\r\n",
      "Requirement already satisfied: requests<3.0.0,>=2.13.0 in /Users/megan/.pyenv/versions/anaconda3-2020.02/lib/python3.7/site-packages (from spacy->pytextrank) (2.27.1)\r\n",
      "Requirement already satisfied: typer<0.5.0,>=0.3.0 in /Users/megan/.pyenv/versions/anaconda3-2020.02/lib/python3.7/site-packages (from spacy->pytextrank) (0.4.2)\r\n",
      "Requirement already satisfied: setuptools in /Users/megan/.pyenv/versions/anaconda3-2020.02/lib/python3.7/site-packages (from spacy->pytextrank) (45.2.0.post20200210)\r\n",
      "Requirement already satisfied: pyparsing!=3.0.5,>=2.0.2 in /Users/megan/.pyenv/versions/anaconda3-2020.02/lib/python3.7/site-packages (from packaging>=20.0->spacy->pytextrank) (2.4.6)\r\n",
      "Requirement already satisfied: blis<0.8.0,>=0.7.8 in /Users/megan/.pyenv/versions/anaconda3-2020.02/lib/python3.7/site-packages (from thinc<8.2.0,>=8.1.0->spacy->pytextrank) (0.7.9)\r\n",
      "Requirement already satisfied: confection<1.0.0,>=0.0.1 in /Users/megan/.pyenv/versions/anaconda3-2020.02/lib/python3.7/site-packages (from thinc<8.2.0,>=8.1.0->spacy->pytextrank) (0.0.3)\r\n",
      "Requirement already satisfied: smart-open<6.0.0,>=5.2.1 in /Users/megan/.pyenv/versions/anaconda3-2020.02/lib/python3.7/site-packages (from pathy>=0.3.5->spacy->pytextrank) (5.2.1)\r\n",
      "Requirement already satisfied: MarkupSafe>=0.23 in /Users/megan/.pyenv/versions/anaconda3-2020.02/lib/python3.7/site-packages (from jinja2->spacy->pytextrank) (1.1.1)\r\n",
      "Requirement already satisfied: zipp>=0.5; python_version < \"3.8\" in /Users/megan/.pyenv/versions/anaconda3-2020.02/lib/python3.7/site-packages (from catalogue<2.1.0,>=2.0.6->spacy->pytextrank) (2.2.0)\r\n",
      "Requirement already satisfied: certifi>=2017.4.17 in /Users/megan/.pyenv/versions/anaconda3-2020.02/lib/python3.7/site-packages (from requests<3.0.0,>=2.13.0->spacy->pytextrank) (2021.10.8)\r\n",
      "Requirement already satisfied: idna<4,>=2.5; python_version >= \"3\" in /Users/megan/.pyenv/versions/anaconda3-2020.02/lib/python3.7/site-packages (from requests<3.0.0,>=2.13.0->spacy->pytextrank) (2.8)\r\n",
      "Requirement already satisfied: urllib3<1.27,>=1.21.1 in /Users/megan/.pyenv/versions/anaconda3-2020.02/lib/python3.7/site-packages (from requests<3.0.0,>=2.13.0->spacy->pytextrank) (1.26.9)\r\n",
      "Requirement already satisfied: charset-normalizer~=2.0.0; python_version >= \"3\" in /Users/megan/.pyenv/versions/anaconda3-2020.02/lib/python3.7/site-packages (from requests<3.0.0,>=2.13.0->spacy->pytextrank) (2.0.12)\r\n",
      "Requirement already satisfied: click<9.0.0,>=7.1.1 in /Users/megan/.pyenv/versions/anaconda3-2020.02/lib/python3.7/site-packages (from typer<0.5.0,>=0.3.0->spacy->pytextrank) (8.1.3)\r\n",
      "Requirement already satisfied: importlib-metadata; python_version < \"3.8\" in /Users/megan/.pyenv/versions/anaconda3-2020.02/lib/python3.7/site-packages (from click<9.0.0,>=7.1.1->typer<0.5.0,>=0.3.0->spacy->pytextrank) (1.5.0)\r\n",
      "Requirement already satisfied: en-core-web-sm==3.4.1 from https://github.com/explosion/spacy-models/releases/download/en_core_web_sm-3.4.1/en_core_web_sm-3.4.1-py3-none-any.whl in /Users/megan/.pyenv/versions/anaconda3-2020.02/lib/python3.7/site-packages (3.4.1)\r\n",
      "Requirement already satisfied: spacy<3.5.0,>=3.4.0 in /Users/megan/.pyenv/versions/anaconda3-2020.02/lib/python3.7/site-packages (from en-core-web-sm==3.4.1) (3.4.2)\r\n",
      "Requirement already satisfied: spacy-loggers<2.0.0,>=1.0.0 in /Users/megan/.pyenv/versions/anaconda3-2020.02/lib/python3.7/site-packages (from spacy<3.5.0,>=3.4.0->en-core-web-sm==3.4.1) (1.0.3)\r\n",
      "Requirement already satisfied: wasabi<1.1.0,>=0.9.1 in /Users/megan/.pyenv/versions/anaconda3-2020.02/lib/python3.7/site-packages (from spacy<3.5.0,>=3.4.0->en-core-web-sm==3.4.1) (0.10.1)\r\n",
      "Requirement already satisfied: requests<3.0.0,>=2.13.0 in /Users/megan/.pyenv/versions/anaconda3-2020.02/lib/python3.7/site-packages (from spacy<3.5.0,>=3.4.0->en-core-web-sm==3.4.1) (2.27.1)\r\n",
      "Requirement already satisfied: packaging>=20.0 in /Users/megan/.pyenv/versions/anaconda3-2020.02/lib/python3.7/site-packages (from spacy<3.5.0,>=3.4.0->en-core-web-sm==3.4.1) (21.3)\r\n",
      "Requirement already satisfied: setuptools in /Users/megan/.pyenv/versions/anaconda3-2020.02/lib/python3.7/site-packages (from spacy<3.5.0,>=3.4.0->en-core-web-sm==3.4.1) (45.2.0.post20200210)\r\n",
      "Requirement already satisfied: cymem<2.1.0,>=2.0.2 in /Users/megan/.pyenv/versions/anaconda3-2020.02/lib/python3.7/site-packages (from spacy<3.5.0,>=3.4.0->en-core-web-sm==3.4.1) (2.0.7)\r\n",
      "Requirement already satisfied: thinc<8.2.0,>=8.1.0 in /Users/megan/.pyenv/versions/anaconda3-2020.02/lib/python3.7/site-packages (from spacy<3.5.0,>=3.4.0->en-core-web-sm==3.4.1) (8.1.5)\r\n",
      "Requirement already satisfied: langcodes<4.0.0,>=3.2.0 in /Users/megan/.pyenv/versions/anaconda3-2020.02/lib/python3.7/site-packages (from spacy<3.5.0,>=3.4.0->en-core-web-sm==3.4.1) (3.3.0)\r\n",
      "Requirement already satisfied: preshed<3.1.0,>=3.0.2 in /Users/megan/.pyenv/versions/anaconda3-2020.02/lib/python3.7/site-packages (from spacy<3.5.0,>=3.4.0->en-core-web-sm==3.4.1) (3.0.8)\r\n",
      "Requirement already satisfied: jinja2 in /Users/megan/.pyenv/versions/anaconda3-2020.02/lib/python3.7/site-packages (from spacy<3.5.0,>=3.4.0->en-core-web-sm==3.4.1) (2.11.1)\r\n",
      "Requirement already satisfied: catalogue<2.1.0,>=2.0.6 in /Users/megan/.pyenv/versions/anaconda3-2020.02/lib/python3.7/site-packages (from spacy<3.5.0,>=3.4.0->en-core-web-sm==3.4.1) (2.0.8)\r\n",
      "Requirement already satisfied: pathy>=0.3.5 in /Users/megan/.pyenv/versions/anaconda3-2020.02/lib/python3.7/site-packages (from spacy<3.5.0,>=3.4.0->en-core-web-sm==3.4.1) (0.6.2)\r\n",
      "Requirement already satisfied: murmurhash<1.1.0,>=0.28.0 in /Users/megan/.pyenv/versions/anaconda3-2020.02/lib/python3.7/site-packages (from spacy<3.5.0,>=3.4.0->en-core-web-sm==3.4.1) (1.0.9)\r\n",
      "Requirement already satisfied: spacy-legacy<3.1.0,>=3.0.10 in /Users/megan/.pyenv/versions/anaconda3-2020.02/lib/python3.7/site-packages (from spacy<3.5.0,>=3.4.0->en-core-web-sm==3.4.1) (3.0.10)\r\n",
      "Requirement already satisfied: srsly<3.0.0,>=2.4.3 in /Users/megan/.pyenv/versions/anaconda3-2020.02/lib/python3.7/site-packages (from spacy<3.5.0,>=3.4.0->en-core-web-sm==3.4.1) (2.4.5)\r\n",
      "Requirement already satisfied: typer<0.5.0,>=0.3.0 in /Users/megan/.pyenv/versions/anaconda3-2020.02/lib/python3.7/site-packages (from spacy<3.5.0,>=3.4.0->en-core-web-sm==3.4.1) (0.4.2)\r\n",
      "Requirement already satisfied: tqdm<5.0.0,>=4.38.0 in /Users/megan/.pyenv/versions/anaconda3-2020.02/lib/python3.7/site-packages (from spacy<3.5.0,>=3.4.0->en-core-web-sm==3.4.1) (4.42.1)\r\n",
      "Requirement already satisfied: numpy>=1.15.0 in /Users/megan/.pyenv/versions/anaconda3-2020.02/lib/python3.7/site-packages (from spacy<3.5.0,>=3.4.0->en-core-web-sm==3.4.1) (1.20.2)\r\n",
      "Requirement already satisfied: typing-extensions<4.2.0,>=3.7.4; python_version < \"3.8\" in /Users/megan/.pyenv/versions/anaconda3-2020.02/lib/python3.7/site-packages (from spacy<3.5.0,>=3.4.0->en-core-web-sm==3.4.1) (4.1.1)\r\n",
      "Requirement already satisfied: pydantic!=1.8,!=1.8.1,<1.11.0,>=1.7.4 in /Users/megan/.pyenv/versions/anaconda3-2020.02/lib/python3.7/site-packages (from spacy<3.5.0,>=3.4.0->en-core-web-sm==3.4.1) (1.10.2)\r\n",
      "Requirement already satisfied: urllib3<1.27,>=1.21.1 in /Users/megan/.pyenv/versions/anaconda3-2020.02/lib/python3.7/site-packages (from requests<3.0.0,>=2.13.0->spacy<3.5.0,>=3.4.0->en-core-web-sm==3.4.1) (1.26.9)\r\n",
      "Requirement already satisfied: charset-normalizer~=2.0.0; python_version >= \"3\" in /Users/megan/.pyenv/versions/anaconda3-2020.02/lib/python3.7/site-packages (from requests<3.0.0,>=2.13.0->spacy<3.5.0,>=3.4.0->en-core-web-sm==3.4.1) (2.0.12)\r\n",
      "Requirement already satisfied: idna<4,>=2.5; python_version >= \"3\" in /Users/megan/.pyenv/versions/anaconda3-2020.02/lib/python3.7/site-packages (from requests<3.0.0,>=2.13.0->spacy<3.5.0,>=3.4.0->en-core-web-sm==3.4.1) (2.8)\r\n",
      "Requirement already satisfied: certifi>=2017.4.17 in /Users/megan/.pyenv/versions/anaconda3-2020.02/lib/python3.7/site-packages (from requests<3.0.0,>=2.13.0->spacy<3.5.0,>=3.4.0->en-core-web-sm==3.4.1) (2021.10.8)\r\n",
      "Requirement already satisfied: pyparsing!=3.0.5,>=2.0.2 in /Users/megan/.pyenv/versions/anaconda3-2020.02/lib/python3.7/site-packages (from packaging>=20.0->spacy<3.5.0,>=3.4.0->en-core-web-sm==3.4.1) (2.4.6)\r\n",
      "Requirement already satisfied: blis<0.8.0,>=0.7.8 in /Users/megan/.pyenv/versions/anaconda3-2020.02/lib/python3.7/site-packages (from thinc<8.2.0,>=8.1.0->spacy<3.5.0,>=3.4.0->en-core-web-sm==3.4.1) (0.7.9)\r\n",
      "Requirement already satisfied: confection<1.0.0,>=0.0.1 in /Users/megan/.pyenv/versions/anaconda3-2020.02/lib/python3.7/site-packages (from thinc<8.2.0,>=8.1.0->spacy<3.5.0,>=3.4.0->en-core-web-sm==3.4.1) (0.0.3)\r\n",
      "Requirement already satisfied: MarkupSafe>=0.23 in /Users/megan/.pyenv/versions/anaconda3-2020.02/lib/python3.7/site-packages (from jinja2->spacy<3.5.0,>=3.4.0->en-core-web-sm==3.4.1) (1.1.1)\r\n",
      "Requirement already satisfied: zipp>=0.5; python_version < \"3.8\" in /Users/megan/.pyenv/versions/anaconda3-2020.02/lib/python3.7/site-packages (from catalogue<2.1.0,>=2.0.6->spacy<3.5.0,>=3.4.0->en-core-web-sm==3.4.1) (2.2.0)\r\n",
      "Requirement already satisfied: smart-open<6.0.0,>=5.2.1 in /Users/megan/.pyenv/versions/anaconda3-2020.02/lib/python3.7/site-packages (from pathy>=0.3.5->spacy<3.5.0,>=3.4.0->en-core-web-sm==3.4.1) (5.2.1)\r\n",
      "Requirement already satisfied: click<9.0.0,>=7.1.1 in /Users/megan/.pyenv/versions/anaconda3-2020.02/lib/python3.7/site-packages (from typer<0.5.0,>=0.3.0->spacy<3.5.0,>=3.4.0->en-core-web-sm==3.4.1) (8.1.3)\r\n",
      "Requirement already satisfied: importlib-metadata; python_version < \"3.8\" in /Users/megan/.pyenv/versions/anaconda3-2020.02/lib/python3.7/site-packages (from click<9.0.0,>=7.1.1->typer<0.5.0,>=0.3.0->spacy<3.5.0,>=3.4.0->en-core-web-sm==3.4.1) (1.5.0)\r\n",
      "\u001B[38;5;2m✔ Download and installation successful\u001B[0m\r\n",
      "You can now load the package via spacy.load('en_core_web_sm')\r\n"
     ]
    }
   ],
   "source": [
    "!python3 -m pip install pytextrank\n",
    "!python3 -m spacy download en_core_web_sm"
   ],
   "metadata": {
    "collapsed": false,
    "pycharm": {
     "name": "#%%\n"
    }
   }
  },
  {
   "cell_type": "code",
   "execution_count": 13,
   "outputs": [
    {
     "ename": "ValueError",
     "evalue": "[E002] Can't find factory for 'textrank' for language English (en). This usually happens when spaCy calls `nlp.create_pipe` with a custom component name that's not registered on the current language class. If you're using a Transformer, make sure to install 'spacy-transformers'. If you're using a custom component, make sure you've added the decorator `@Language.component` (for function components) or `@Language.factory` (for class components).\n\nAvailable factories: attribute_ruler, tok2vec, merge_noun_chunks, merge_entities, merge_subtokens, token_splitter, doc_cleaner, parser, beam_parser, lemmatizer, trainable_lemmatizer, entity_linker, ner, beam_ner, entity_ruler, tagger, morphologizer, senter, sentencizer, textcat, spancat, future_entity_ruler, span_ruler, textcat_multilabel, en.lemmatizer",
     "output_type": "error",
     "traceback": [
      "\u001B[0;31m---------------------------------------------------------------------------\u001B[0m",
      "\u001B[0;31mValueError\u001B[0m                                Traceback (most recent call last)",
      "\u001B[0;32m<ipython-input-13-83c29a869635>\u001B[0m in \u001B[0;36m<module>\u001B[0;34m\u001B[0m\n\u001B[1;32m     14\u001B[0m \u001B[0;34m\u001B[0m\u001B[0m\n\u001B[1;32m     15\u001B[0m \u001B[0;31m# add PyTextRank to the spaCy pipeline\u001B[0m\u001B[0;34m\u001B[0m\u001B[0;34m\u001B[0m\u001B[0;34m\u001B[0m\u001B[0m\n\u001B[0;32m---> 16\u001B[0;31m \u001B[0mnlp\u001B[0m\u001B[0;34m.\u001B[0m\u001B[0madd_pipe\u001B[0m\u001B[0;34m(\u001B[0m\u001B[0;34m\"textrank\"\u001B[0m\u001B[0;34m)\u001B[0m\u001B[0;34m\u001B[0m\u001B[0;34m\u001B[0m\u001B[0m\n\u001B[0m\u001B[1;32m     17\u001B[0m \u001B[0mdoc\u001B[0m \u001B[0;34m=\u001B[0m \u001B[0mnlp\u001B[0m\u001B[0;34m(\u001B[0m\u001B[0mtext\u001B[0m\u001B[0;34m)\u001B[0m\u001B[0;34m\u001B[0m\u001B[0;34m\u001B[0m\u001B[0m\n\u001B[1;32m     18\u001B[0m \u001B[0;34m\u001B[0m\u001B[0m\n",
      "\u001B[0;32m~/.pyenv/versions/anaconda3-2020.02/lib/python3.7/site-packages/spacy/language.py\u001B[0m in \u001B[0;36madd_pipe\u001B[0;34m(self, factory_name, name, before, after, first, last, source, config, raw_config, validate)\u001B[0m\n\u001B[1;32m    804\u001B[0m                 \u001B[0mconfig\u001B[0m\u001B[0;34m=\u001B[0m\u001B[0mconfig\u001B[0m\u001B[0;34m,\u001B[0m\u001B[0;34m\u001B[0m\u001B[0;34m\u001B[0m\u001B[0m\n\u001B[1;32m    805\u001B[0m                 \u001B[0mraw_config\u001B[0m\u001B[0;34m=\u001B[0m\u001B[0mraw_config\u001B[0m\u001B[0;34m,\u001B[0m\u001B[0;34m\u001B[0m\u001B[0;34m\u001B[0m\u001B[0m\n\u001B[0;32m--> 806\u001B[0;31m                 \u001B[0mvalidate\u001B[0m\u001B[0;34m=\u001B[0m\u001B[0mvalidate\u001B[0m\u001B[0;34m,\u001B[0m\u001B[0;34m\u001B[0m\u001B[0;34m\u001B[0m\u001B[0m\n\u001B[0m\u001B[1;32m    807\u001B[0m             )\n\u001B[1;32m    808\u001B[0m         \u001B[0mpipe_index\u001B[0m \u001B[0;34m=\u001B[0m \u001B[0mself\u001B[0m\u001B[0;34m.\u001B[0m\u001B[0m_get_pipe_index\u001B[0m\u001B[0;34m(\u001B[0m\u001B[0mbefore\u001B[0m\u001B[0;34m,\u001B[0m \u001B[0mafter\u001B[0m\u001B[0;34m,\u001B[0m \u001B[0mfirst\u001B[0m\u001B[0;34m,\u001B[0m \u001B[0mlast\u001B[0m\u001B[0;34m)\u001B[0m\u001B[0;34m\u001B[0m\u001B[0;34m\u001B[0m\u001B[0m\n",
      "\u001B[0;32m~/.pyenv/versions/anaconda3-2020.02/lib/python3.7/site-packages/spacy/language.py\u001B[0m in \u001B[0;36mcreate_pipe\u001B[0;34m(self, factory_name, name, config, raw_config, validate)\u001B[0m\n\u001B[1;32m    659\u001B[0m                 \u001B[0mlang_code\u001B[0m\u001B[0;34m=\u001B[0m\u001B[0mself\u001B[0m\u001B[0;34m.\u001B[0m\u001B[0mlang\u001B[0m\u001B[0;34m,\u001B[0m\u001B[0;34m\u001B[0m\u001B[0;34m\u001B[0m\u001B[0m\n\u001B[1;32m    660\u001B[0m             )\n\u001B[0;32m--> 661\u001B[0;31m             \u001B[0;32mraise\u001B[0m \u001B[0mValueError\u001B[0m\u001B[0;34m(\u001B[0m\u001B[0merr\u001B[0m\u001B[0;34m)\u001B[0m\u001B[0;34m\u001B[0m\u001B[0;34m\u001B[0m\u001B[0m\n\u001B[0m\u001B[1;32m    662\u001B[0m         \u001B[0mpipe_meta\u001B[0m \u001B[0;34m=\u001B[0m \u001B[0mself\u001B[0m\u001B[0;34m.\u001B[0m\u001B[0mget_factory_meta\u001B[0m\u001B[0;34m(\u001B[0m\u001B[0mfactory_name\u001B[0m\u001B[0;34m)\u001B[0m\u001B[0;34m\u001B[0m\u001B[0;34m\u001B[0m\u001B[0m\n\u001B[1;32m    663\u001B[0m         \u001B[0;31m# This is unideal, but the alternative would mean you always need to\u001B[0m\u001B[0;34m\u001B[0m\u001B[0;34m\u001B[0m\u001B[0;34m\u001B[0m\u001B[0m\n",
      "\u001B[0;31mValueError\u001B[0m: [E002] Can't find factory for 'textrank' for language English (en). This usually happens when spaCy calls `nlp.create_pipe` with a custom component name that's not registered on the current language class. If you're using a Transformer, make sure to install 'spacy-transformers'. If you're using a custom component, make sure you've added the decorator `@Language.component` (for function components) or `@Language.factory` (for class components).\n\nAvailable factories: attribute_ruler, tok2vec, merge_noun_chunks, merge_entities, merge_subtokens, token_splitter, doc_cleaner, parser, beam_parser, lemmatizer, trainable_lemmatizer, entity_linker, ner, beam_ner, entity_ruler, tagger, morphologizer, senter, sentencizer, textcat, spancat, future_entity_ruler, span_ruler, textcat_multilabel, en.lemmatizer"
     ]
    }
   ],
   "source": [
    "import spacy\n",
    "import pytextrank\n",
    "\n",
    "# example text\n",
    "text = \"\"\"\n",
    "Compatibility of systems of linear constraints over the set of natural numbers.\n",
    "Criteria of compatibility of a system of linear Diophantine equations, strict inequations, and nonstrict inequations are considered.\n",
    "Upper bounds for components of a minimal set of solutions and algorithms of construction of minimal generating sets of solutions for all types of systems are given.\n",
    "These criteria and the corresponding algorithms for constructing a minimal supporting set of solutions can be used in solving all the considered types systems and systems of mixed types.\n",
    "\"\"\"\n",
    "\n",
    "# load a spaCy model, depending on language, scale, etc.\n",
    "nlp = spacy.load(\"en_core_web_sm\")\n",
    "\n",
    "# add PyTextRank to the spaCy pipeline\n",
    "nlp.add_pipe(\"textrank\")\n",
    "doc = nlp(text)\n",
    "\n",
    "# examine the top-ranked phrases in the document\n",
    "for phrase in doc._.phrases:\n",
    "    print(phrase.text)\n",
    "    print(phrase.rank, phrase.count)\n",
    "    print(phrase.chunks)"
   ],
   "metadata": {
    "collapsed": false,
    "pycharm": {
     "name": "#%%\n"
    }
   }
  }
 ],
 "metadata": {
  "kernelspec": {
   "display_name": "Python 3",
   "language": "python",
   "name": "python3"
  },
  "language_info": {
   "codemirror_mode": {
    "name": "ipython",
    "version": 2
   },
   "file_extension": ".py",
   "mimetype": "text/x-python",
   "name": "python",
   "nbconvert_exporter": "python",
   "pygments_lexer": "ipython2",
   "version": "2.7.6"
  }
 },
 "nbformat": 4,
 "nbformat_minor": 0
}